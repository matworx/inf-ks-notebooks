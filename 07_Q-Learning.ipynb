{
  "cells": [
    {
      "metadata": {
        "collapsed": true
      },
      "cell_type": "markdown",
      "source": [
        "## What is q-learning?\n",
        "\n",
        "Q-learning is an off policy reinforcement learning algorithm that seeks to find the best action to take given the current state. It’s considered off-policy because the q-learning function learns from actions that are outside the current policy, like taking random actions, and therefore a policy isn’t needed. More specifically, q-learning seeks to learn a policy that maximizes the total reward."
      ]
    },
    {
      "metadata": {},
      "cell_type": "markdown",
      "source": [
        "## Create a q-table\n",
        "\n",
        "When q-learning is performed we create what’s called a q-table or matrix that follows the shape of [state, action] and we initialize our values to zero. We then update and store our q-values after an episode. This q-table becomes a reference table for our agent to select the best action based on the q-value."
      ]
    },
    {
      "metadata": {
        "trusted": true
      },
      "cell_type": "code",
      "source": [
        "import numpy as np\n",
        "\n",
        "# Initialize q-table values to 0\n",
        "state_size  = 16\n",
        "action_size = 2\n",
        "Q = np.zeros((state_size, action_size))"
      ],
      "execution_count": 1,
      "outputs": []
    },
    {
      "metadata": {},
      "cell_type": "markdown",
      "source": [
        "## Q-learning and making updates\n",
        "\n",
        "The next step is simply for the agent to interact with the environment and make updates to the state action pairs in our q-table Q[state, action].\n",
        "\n",
        "Taking Action: Explore or Exploit\n",
        "\n",
        "1. The first is to use the q-table as a reference and view all possible actions for a given state. The agent then selects the action based on the max value of those actions. This is known as exploiting since we use the information we have available to us to make a decision.\n",
        "\n",
        "2. The second way to take action is to act randomly. This is called exploring. Instead of selecting actions based on the max future reward we select an action at random. Acting randomly is important because it allows the agent to explore and discover new states that otherwise may not be selected during the exploitation process. You can balance exploration/exploitation using epsilon (ε) and setting the value of how often you want to explore vs exploit. Here’s some rough code that will depend on how the state and action space are setup."
      ]
    },
    {
      "metadata": {
        "trusted": true
      },
      "cell_type": "code",
      "source": [
        "import random\n",
        "\n",
        "# Set the percent you want to explore\n",
        "epsilon = 0.2\n",
        "\n",
        "if random.uniform(0, 1) < epsilon:\n",
        "    \"\"\"\n",
        "    Explore: select a random action\n",
        "\n",
        "    \"\"\"\n",
        "else:\n",
        "    \"\"\"\n",
        "    Exploit: select the action with max value (future reward)\n",
        "\n",
        "    \"\"\""
      ],
      "execution_count": 2,
      "outputs": []
    },
    {
      "metadata": {},
      "cell_type": "markdown",
      "source": [
        "## Updating the q-table\n",
        "\n",
        "The updates occur after each step or action and ends when an episode is done. Done in this case means reaching some terminal point by the agent. A terminal state for example can be anything like landing on a checkout page, reaching the end of some game, completing some desired objective, etc. The agent will not learn much after a single episode, but eventually with enough exploring (steps and episodes) it will converge and learn the optimal q-values or q-star (Q∗).\n",
        "\n",
        "Here are the 3 basic steps:\n",
        "\n",
        "    1. Agent starts in a state (s1) takes an action (a1) and receives a reward (r1)\n",
        "    2. Agent selects action by referencing Q-table with highest value (max) OR by random (epsilon, ε)\n",
        "    3. Update q-values\n",
        "\n",
        "Here is the basic update rule for q-learning:"
      ]
    },
    {
      "metadata": {
        "trusted": true
      },
      "cell_type": "code",
      "source": [
        "# Update q values\n",
        "lr = 0.5\n",
        "reward = 0\n",
        "gamma = 0.9\n",
        "state = 0 \n",
        "action = 1\n",
        "new_state = 1\n",
        "\n",
        "Q[state, action] = Q[state, action] + lr * (reward + gamma * np.max(Q[new_state, :]) - Q[state, action])\n",
        "print(Q)"
      ],
      "execution_count": 3,
      "outputs": [
        {
          "output_type": "stream",
          "name": "stdout",
          "text": [
            "[[0. 0.]\n [0. 0.]\n [0. 0.]\n [0. 0.]\n [0. 0.]\n [0. 0.]\n [0. 0.]\n [0. 0.]\n [0. 0.]\n [0. 0.]\n [0. 0.]\n [0. 0.]\n [0. 0.]\n [0. 0.]\n [0. 0.]\n [0. 0.]]\n"
          ]
        }
      ]
    },
    {
      "metadata": {},
      "cell_type": "markdown",
      "source": [
        "with \n",
        "\n",
        "- **Learning Rate**: lr or learning rate, often referred to as alpha or α, can simply be defined as how much you accept the new value vs the old value. Above we are taking the difference between new and old and then multiplying that value by the learning rate. This value then gets added to our previous q-value which essentially moves it in the direction of our latest update.\n",
        "\n",
        "- **Gamma**: gamma or γ is a discount factor. It’s used to balance immediate and future reward. From our update rule above you can see that we apply the discount to the future reward. Typically this value can range anywhere from 0.8 to 0.99.\n",
        "\n",
        "- **Reward**: reward is the value received after completing a certain action at a given state. A reward can happen at any given time step or only at the terminal time step.\n",
        "\n",
        "- **Max**: np.max() uses the numpy library and is taking the maximum of the future reward and applying it to the reward for the current state. What this does is impact the current action by the possible future reward. This is the beauty of q-learning. We’re allocating future reward to current actions to help the agent select the highest return action at any given state."
      ]
    }
  ],
  "metadata": {
    "kernelspec": {
      "name": "python385jvsc74a57bd0f9b5efd0e08c2114346742f400161afdcd7adc5e33ff643b399fae2581a6d016",
      "display_name": "Python 3.8.5 64-bit ('base': conda)"
    },
    "language_info": {
      "mimetype": "text/x-python",
      "nbconvert_exporter": "python",
      "name": "python",
      "pygments_lexer": "ipython3",
      "version": "3.8.5",
      "file_extension": ".py",
      "codemirror_mode": {
        "version": 3,
        "name": "ipython"
      }
    }
  },
  "nbformat": 4,
  "nbformat_minor": 2
}