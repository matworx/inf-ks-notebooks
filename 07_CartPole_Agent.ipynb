{
 "cells": [
  {
   "cell_type": "code",
   "execution_count": 1,
   "metadata": {
    "id": "bWKDi8Ix0G6y"
   },
   "outputs": [],
   "source": [
    "import numpy as np\n",
    "import matplotlib.pyplot as plt\n",
    "import gym\n",
    "import pickle as pk\n",
    "from collections import defaultdict \n",
    "np.random.seed(2021)\n",
    "import warnings\n",
    "warnings.filterwarnings(\"ignore\")"
   ]
  },
  {
   "cell_type": "markdown",
   "metadata": {
    "id": "hYFWerz4xj-y"
   },
   "source": [
    "#### **Simplified version for blog post screen shot**"
   ]
  },
  {
   "cell_type": "code",
   "execution_count": 2,
   "metadata": {
    "id": "RuiwA7-pJ8Us"
   },
   "outputs": [],
   "source": [
    "# # simplified code for blog post screenshots \n",
    "# # QL\n",
    "# Q[s,a] = Q[s,a] + alpha*(reward - Q[s,a] \n",
    "#           + gamma*np.max([Q[s_,a_] for a_ in range(possible_action)]))\n",
    "\n",
    "# # SARSA\n",
    "# a_ = max_action(s_) if rand < (1-epsilon) else env.action_space.sample()\n",
    "# Q[s,a] = Q[s,a] + alpha*(reward - Q[s,a] + gamma*Q[s_,a_])"
   ]
  },
  {
   "cell_type": "markdown",
   "metadata": {
    "id": "l2ivu33oxv4N"
   },
   "source": [
    "#### **Quick demo of OpenAI Gym**"
   ]
  },
  {
   "cell_type": "code",
   "execution_count": 3,
   "metadata": {
    "colab": {
     "base_uri": "https://localhost:8080/"
    },
    "id": "0W2-TcO1Phs7",
    "outputId": "ed1b917f-c8a7-48be-ddc2-674e8af3a830"
   },
   "outputs": [
    {
     "name": "stdout",
     "output_type": "stream",
     "text": [
      "Number of action: 2\n",
      "State space configuration: Box([-4.8000002e+00 -3.4028235e+38 -4.1887903e-01 -3.4028235e+38], [4.8000002e+00 3.4028235e+38 4.1887903e-01 3.4028235e+38], (4,), float32)\n"
     ]
    }
   ],
   "source": [
    "import gym  # OpenAI Gym\n",
    "env = gym.make('CartPole-v0') # make environment\n",
    "\n",
    "print(\"Number of action:\", env.action_space.n)\n",
    "print(\"State space configuration:\", env.observation_space)\n",
    "\n",
    "env.reset()   # reset environment\n",
    "\n",
    "for _ in range(1000):\n",
    "    # step: move, action_space.sample: move randomly\n",
    "    env.step(env.action_space.sample()) # take a random action\n",
    "env.close()"
   ]
  },
  {
   "cell_type": "markdown",
   "metadata": {
    "id": "mWUwAbs2x34L"
   },
   "source": [
    "### **Cart pole game agent with 2 methods**"
   ]
  },
  {
   "cell_type": "code",
   "execution_count": 31,
   "metadata": {
    "id": "59_8C7WQR0s_"
   },
   "outputs": [],
   "source": [
    "class CartPole():\n",
    "  def __init__(self, boxes = (20, 20, 20, 20), set_bound = [4.8, 4.0, 0.4, 4.0]):\n",
    "    '''\n",
    "    Initialize the environment\n",
    "    '''\n",
    "\n",
    "    # env\n",
    "    self.env = gym.make('CartPole-v0')\n",
    "\n",
    "    # actions\n",
    "    self.possible_action = self.env.action_space.n\n",
    "\n",
    "    # discrete space\n",
    "    self.boxes = boxes\n",
    "\n",
    "    # The set bound here encorporates a little of knowledge into the system: \n",
    "    # As the variables have a huge range, here, I narrow the range a bit to \n",
    "    # limit the state space. If you don't want to incorperate the personal knowledge,\n",
    "    # set set_bound = None\n",
    "    if set_bound:\n",
    "      set_bound = np.array(set_bound)\n",
    "      self.high = set_bound\n",
    "      self.low = -set_bound\n",
    "    else:\n",
    "      self.low = self.env.observation_space.low\n",
    "      self.high = self.env.observation_space.high\n",
    "      \n",
    "    # set up discrete space values\n",
    "    self.discrete_space = []\n",
    "    for i in range(len(self.high)):\n",
    "      self.discrete_space.append(np.linspace(self.low[i], self.high[i], self.boxes[i]))\n",
    "\n",
    "    self.method = \"QL\"\n",
    "    self.Q_table = defaultdict(lambda: defaultdict(int))\n",
    "\n",
    "  def get_discrete(self, observation):\n",
    "    '''\n",
    "    Input the observed state and return its corresponding discrete state space\n",
    "    tuple value because we will store it in the dictionary (list not hashable)\n",
    "    '''\n",
    "    \n",
    "    new_state = []\n",
    "    for i, val in enumerate(observation):\n",
    "      new_state.append(int(np.digitize(val, self.discrete_space[i])))\n",
    "\n",
    "    return tuple(new_state)\n",
    "\n",
    "  def max_action(self, state):\n",
    "    '''\n",
    "    Input the state and return the best move at that state\n",
    "    '''\n",
    "    values = np.array([self.Q_table[self.method][state, action] for action in range(self.possible_action)])\n",
    "    action = np.argmax(values)\n",
    "    return action\n",
    "\n",
    "  def train(self, method = \"QL\", num_games = 100001, alpha = 0.1,\n",
    "               gamma = 0.9, epsilon = 1.0, temporary_game_check = 20000, plot_result = True):\n",
    "    '''\n",
    "    alpha: learning rate \n",
    "    gamma: discounted rate\n",
    "    epsilon: exploration ratio\n",
    "    temporary_game_check: print out results every \"temporary_game_check\" games\n",
    "    num_games: number of trials\n",
    "    '''\n",
    "\n",
    "    # screening & initializing\n",
    "    if method not in {\"QL\", \"SARSA\"}:\n",
    "      raise ValueError(\"No such method! Try again!\")\n",
    "\n",
    "    self.method = method\n",
    "    successful_steps = []\n",
    "\n",
    "    for i in range(num_games):\n",
    "      # printing to check process\n",
    "      if i % temporary_game_check == 0:\n",
    "        print('starting game', i)\n",
    "\n",
    "      # foreach game, reset the environment      \n",
    "      # cart x position, cart velocity, pole theta, pole velocity\n",
    "      observation = self.env.reset()   \n",
    "          \n",
    "      s = self.get_discrete(observation[0])\n",
    "\n",
    "      # e-greedy policy: epsilon chance of exploring and (1-epsilon) chance of exploiting \n",
    "      rand = np.random.random()\n",
    "      a = self.max_action(s) if rand < (1 - epsilon) else self.env.action_space.sample()\n",
    "      done = False\n",
    "\n",
    "      succesful_step = 0\n",
    "\n",
    "      # keep playing\n",
    "      while not done:\n",
    "        '''\n",
    "        Move to the next state, use the next state value to update back the current state\n",
    "        '''\n",
    "        \n",
    "        # Move to next state\n",
    "        observation_, reward, done, info, _ = self.env.step(a)   \n",
    "        s_ = self.get_discrete(observation_)\n",
    "\n",
    "        # update (depends on learning method)\n",
    "        if method == \"QL\":\n",
    "          # off policy\n",
    "          self.Q_table[method][s,a] = self.Q_table[method][s,a] + alpha*(reward + gamma*self.Q_table[method][s_, self.max_action(s_)] - self.Q_table[method][s,a])\n",
    "\n",
    "          rand = np.random.random()\n",
    "          a_ = self.max_action(s_) if rand < (1-epsilon) else self.env.action_space.sample()\n",
    "        \n",
    "        elif method == \"SARSA\":\n",
    "          rand = np.random.random()\n",
    "          a_ = self.max_action(s_) if rand < (1-epsilon) else self.env.action_space.sample()\n",
    "\n",
    "          # on policy\n",
    "          self.Q_table[method][s,a] = self.Q_table[method][s,a] + alpha*(reward + gamma*self.Q_table[method][s_, a_] - self.Q_table[method][s,a])\n",
    "\n",
    "        # update next state\n",
    "        s, a = s_, a_    \n",
    "\n",
    "        succesful_step += 1\n",
    "\n",
    "      # epsilon decay every time so we explore less later in the game\n",
    "      epsilon *= (num_games - 1)/num_games\n",
    "      successful_steps.append(succesful_step)\n",
    "\n",
    "    # save the Q table for further inference\n",
    "    self.save(method = method, file_name = f\"Q_table_{num_games}\")\n",
    "\n",
    "    # show results\n",
    "    if plot_result:\n",
    "      plt.figure(figsize=(12,8))\n",
    "      plt.plot(successful_steps, 'b--')\n",
    "      plt.xlabel(\"Games\")\n",
    "      plt.ylabel(\"Maximum steps\")\n",
    "      plt.title(f\"Training result for {method} after {num_games} games\")\n",
    "      plt.show()\n",
    "    \n",
    "    return successful_steps\n",
    "\n",
    "  def save(self, method = 'QL', file_name = 'Q_table'):\n",
    "    '''\n",
    "    Save Q_table to the pk file\n",
    "    '''\n",
    "    if method not in {\"QL\", \"SARSA\"}:\n",
    "      raise ValueError(\"No such method! Try again!\")\n",
    "    \n",
    "    with open(f'{file_name}_{method}.pk', 'wb') as handle:\n",
    "      pk.dump(self.Q_table[method], handle, protocol=pk.HIGHEST_PROTOCOL)\n",
    "\n",
    "  def play(self, method = None, model_dir = None, get_vid = True, print_result = True):\n",
    "    '''\n",
    "    Inference mode: choose the optimal path every time (as we want to play optimally)\n",
    "    model_dir: if we want using pre-trained model\n",
    "    get_vid: if you run this script in Python you can have a video of the agent playing\n",
    "    (works with VS Code or command line, not on GG Colab)\n",
    "    '''\n",
    "    if method not in {\"QL\", \"SARSA\"}:\n",
    "      method = self.method\n",
    "      raise ValueError(\"No such method! Try again! Set to the most updated method used\")\n",
    "\n",
    "    # Get model (if there is)\n",
    "    if model_dir:\n",
    "      try:\n",
    "        with open(model_dir, 'rb') as handle:\n",
    "          self.Q_table[method] = pk.load(handle)\n",
    "      except:\n",
    "        print(\"Cannot find saved model. Use current model instead.\")\n",
    "    if method:\n",
    "      self.method = method\n",
    "\n",
    "    # inference: get observation play the best move and continue till terminate\n",
    "\n",
    "    observation = self.env.reset()\n",
    "\n",
    "    s = self.get_discrete(observation)\n",
    "    rand = np.random.random()\n",
    "    a = self.max_action(s)\n",
    "\n",
    "    done = False\n",
    "    succesful_step = 0\n",
    "\n",
    "    while not done:\n",
    "        if get_vid:\n",
    "          try:\n",
    "            self.env.render()\n",
    "          except:\n",
    "            get_vid = False\n",
    "            print(\"Cannot render video. If you are using GG Colab, this function won't work!\")\n",
    "            print(\"Try VS Code or command line!\")\n",
    "        \n",
    "        # choose the best action (and no update)\n",
    "        succesful_step += 1\n",
    "        observation_, reward, done, info, _ = self.env.step(a)   \n",
    "        s_ = self.get_discrete(observation_)\n",
    "        a_ = self.max_action(s_)\n",
    "        s, a = s_, a_            \n",
    "    if print_result:\n",
    "      print(f\"With {self.method}, the maximum steps I can play is: {succesful_step} steps!\")\n",
    "    self.env.close()   \n",
    "    return succesful_step\n",
    "\n",
    "  def play_performance(self, method = \"QL\", model_dir = None, trials = 1000, temp_check = 200):\n",
    "    '''\n",
    "    Simulate the performance of the agent with tons of games (as every game is random)\n",
    "    '''\n",
    "\n",
    "    # screening\n",
    "    if method not in {\"QL\", \"SARSA\"}:\n",
    "      method = self.method\n",
    "      raise ValueError(\"No such method! Try again! Set to the most updated method used\")\n",
    "\n",
    "    # Get model (if there is)\n",
    "    if model_dir:\n",
    "      try:\n",
    "        with open(model_dir, 'rb') as handle:\n",
    "          self.Q_table[method] = pk.load(handle)\n",
    "      except:\n",
    "        print(\"Cannot find saved model. Use current model instead.\")\n",
    "    if method:\n",
    "      self.method = method\n",
    "    \n",
    "    # simulate\n",
    "    steps = []\n",
    "    for i in range(trials):\n",
    "      # print results once in a while\n",
    "      if i % temp_check == (temp_check - 1):\n",
    "        steps.append(QAgent.play(method=method, get_vid=False, print_result=True))\n",
    "      else:\n",
    "        steps.append(QAgent.play(method=method, get_vid=False, print_result=False))\n",
    "\n",
    "    print(\"\")\n",
    "    print(f\"The average (95% interval) I can play is {round(np.mean(steps), 2)} +- {round(2 * np.std(steps), 1)}\")\n",
    "\n",
    "    # plot\n",
    "    plt.figure(figsize = (12, 8))\n",
    "    plt.hist(steps)\n",
    "    plt.xlabel(\"Successful steps\")\n",
    "    plt.ylabel(\"Number of games\")\n",
    "    plt.title(f\"The result of the {method} agent with {trials} games\")\n",
    "    plt.show()"
   ]
  },
  {
   "cell_type": "markdown",
   "metadata": {
    "id": "IgIhhlGBAIsB"
   },
   "source": [
    "#### **Training**"
   ]
  },
  {
   "cell_type": "code",
   "execution_count": 32,
   "metadata": {
    "id": "R4MCXzeNR16_"
   },
   "outputs": [],
   "source": [
    "QAgent = CartPole(boxes = (10, 10, 10, 10))"
   ]
  },
  {
   "cell_type": "code",
   "execution_count": 33,
   "metadata": {
    "colab": {
     "base_uri": "https://localhost:8080/",
     "height": 620
    },
    "id": "ZJ0UeL5xR1-_",
    "outputId": "2ea0b79d-487a-4b3e-beab-8d9cfec4dd09"
   },
   "outputs": [
    {
     "name": "stdout",
     "output_type": "stream",
     "text": [
      "starting game 0\n",
      "starting game 20000\n",
      "starting game 40000\n",
      "starting game 60000\n",
      "starting game 80000\n",
      "starting game 100000\n"
     ]
    },
    {
     "data": {
      "image/png": "[encoded data removed]",
      "text/plain": [
       "<Figure size 864x576 with 1 Axes>"
      ]
     },
     "metadata": {
      "needs_background": "light"
     },
     "output_type": "display_data"
    }
   ],
   "source": [
    "successful_steps = QAgent.train(method = \"QL\", num_games = 100001)"
   ]
  },
  {
   "cell_type": "code",
   "execution_count": null,
   "metadata": {
    "colab": {
     "base_uri": "https://localhost:8080/",
     "height": 620
    },
    "id": "xQgwG5uZbsLJ",
    "outputId": "bc570405-f7f2-4964-e45f-fdd1c80f3f30"
   },
   "outputs": [
    {
     "name": "stdout",
     "output_type": "stream",
     "text": [
      "starting game 0\n",
      "starting game 20000\n",
      "starting game 40000\n",
      "starting game 60000\n"
     ]
    }
   ],
   "source": [
    "successful_steps = QAgent.train(method = \"SARSA\", num_games = 100001)"
   ]
  },
  {
   "cell_type": "markdown",
   "metadata": {
    "id": "HPVknjawAMV_"
   },
   "source": [
    "#### **Inference**"
   ]
  },
  {
   "cell_type": "code",
   "execution_count": null,
   "metadata": {
    "colab": {
     "base_uri": "https://localhost:8080/",
     "height": 637
    },
    "id": "Dl7Du0eiR2B2",
    "outputId": "4a811c46-2e55-4ff6-d9e2-e6bce8248401"
   },
   "outputs": [],
   "source": [
    "method = \"QL\"\n",
    "QAgent.play_performance(method = method)"
   ]
  },
  {
   "cell_type": "code",
   "execution_count": null,
   "metadata": {
    "colab": {
     "base_uri": "https://localhost:8080/",
     "height": 637
    },
    "id": "Z4WaXDgsR2En",
    "outputId": "7a4f4ed1-8b10-405b-87bd-c1158ef177ef"
   },
   "outputs": [],
   "source": [
    "method = \"SARSA\"\n",
    "QAgent.play_performance(method = method)"
   ]
  },
  {
   "cell_type": "code",
   "execution_count": 12,
   "metadata": {
    "id": "YnjnHpfD-4sg"
   },
   "outputs": [],
   "source": []
  }
 ],
 "metadata": {
  "colab": {
   "name": "CartPole Agent.ipynb",
   "provenance": [],
   "toc_visible": true
  },
  "kernelspec": {
   "display_name": "Python 3 (ipykernel)",
   "language": "python",
   "name": "python3"
  },
  "language_info": {
   "codemirror_mode": {
    "name": "ipython",
    "version": 3
   },
   "file_extension": ".py",
   "mimetype": "text/x-python",
   "name": "python",
   "nbconvert_exporter": "python",
   "pygments_lexer": "ipython3",
   "version": "3.9.12"
  }
 },
 "nbformat": 4,
 "nbformat_minor": 1
}
