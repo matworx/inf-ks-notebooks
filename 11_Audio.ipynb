{
 "cells": [
  {
   "cell_type": "code",
   "execution_count": 1,
   "metadata": {},
   "outputs": [
    {
     "name": "stdout",
     "output_type": "stream",
     "text": [
      "Keyring is skipped due to an exception: org.freedesktop.DBus.Error.InvalidFileContent: D-Bus library appears to be incorrectly set up: see the manual page for dbus-uuidgen to correct this issue. (Failed to open \"/var/lib/dbus/machine-id\": No such file or directory; UUID file '/etc/machine-id' should contain a hex string of length 32, not length 0, with no other text)\n",
      "Defaulting to user installation because normal site-packages is not writeable\n",
      "Requirement already satisfied: librosa in /home/marcel/.local/lib/python3.6/site-packages (0.9.1)\n",
      "Requirement already satisfied: scipy>=1.2.0 in /home/marcel/.local/lib/python3.6/site-packages (from librosa) (1.5.4)\n",
      "Requirement already satisfied: joblib>=0.14 in /home/marcel/.local/lib/python3.6/site-packages (from librosa) (1.0.1)\n",
      "Requirement already satisfied: pooch>=1.0 in /home/marcel/.local/lib/python3.6/site-packages (from librosa) (1.6.0)\n",
      "Requirement already satisfied: numba>=0.45.1 in /home/marcel/.local/lib/python3.6/site-packages (from librosa) (0.53.1)\n",
      "Requirement already satisfied: numpy>=1.17.0 in /home/marcel/.local/lib/python3.6/site-packages (from librosa) (1.19.5)\n",
      "Requirement already satisfied: packaging>=20.0 in /home/marcel/.local/lib/python3.6/site-packages (from librosa) (21.3)\n",
      "Requirement already satisfied: resampy>=0.2.2 in /home/marcel/.local/lib/python3.6/site-packages (from librosa) (0.2.2)\n",
      "Requirement already satisfied: scikit-learn>=0.19.1 in /home/marcel/.local/lib/python3.6/site-packages (from librosa) (0.24.2)\n",
      "Requirement already satisfied: audioread>=2.1.5 in /home/marcel/.local/lib/python3.6/site-packages (from librosa) (2.1.9)\n",
      "Requirement already satisfied: decorator>=4.0.10 in /usr/lib/python3/dist-packages (from librosa) (4.1.2)\n",
      "Requirement already satisfied: soundfile>=0.10.2 in /home/marcel/.local/lib/python3.6/site-packages (from librosa) (0.10.3.post1)\n",
      "Requirement already satisfied: llvmlite<0.37,>=0.36.0rc1 in /home/marcel/.local/lib/python3.6/site-packages (from numba>=0.45.1->librosa) (0.36.0)\n",
      "Requirement already satisfied: setuptools in /home/marcel/.local/lib/python3.6/site-packages (from numba>=0.45.1->librosa) (56.2.0)\n",
      "Requirement already satisfied: pyparsing!=3.0.5,>=2.0.2 in /home/marcel/.local/lib/python3.6/site-packages (from packaging>=20.0->librosa) (2.4.7)\n",
      "Requirement already satisfied: requests>=2.19.0 in /home/marcel/.local/lib/python3.6/site-packages (from pooch>=1.0->librosa) (2.25.1)\n",
      "Requirement already satisfied: appdirs>=1.3.0 in /home/marcel/.local/lib/python3.6/site-packages (from pooch>=1.0->librosa) (1.4.4)\n",
      "Requirement already satisfied: six>=1.3 in /home/marcel/.local/lib/python3.6/site-packages (from resampy>=0.2.2->librosa) (1.15.0)\n",
      "Requirement already satisfied: threadpoolctl>=2.0.0 in /home/marcel/.local/lib/python3.6/site-packages (from scikit-learn>=0.19.1->librosa) (2.1.0)\n",
      "Requirement already satisfied: cffi>=1.0 in /home/marcel/.local/lib/python3.6/site-packages (from soundfile>=0.10.2->librosa) (1.15.0)\n",
      "Requirement already satisfied: pycparser in /home/marcel/.local/lib/python3.6/site-packages (from cffi>=1.0->soundfile>=0.10.2->librosa) (2.21)\n",
      "Requirement already satisfied: chardet<5,>=3.0.2 in /home/marcel/.local/lib/python3.6/site-packages (from requests>=2.19.0->pooch>=1.0->librosa) (4.0.0)\n",
      "Requirement already satisfied: idna<3,>=2.5 in /home/marcel/.local/lib/python3.6/site-packages (from requests>=2.19.0->pooch>=1.0->librosa) (2.10)\n",
      "Requirement already satisfied: urllib3<1.27,>=1.21.1 in /home/marcel/.local/lib/python3.6/site-packages (from requests>=2.19.0->pooch>=1.0->librosa) (1.26.4)\n",
      "Requirement already satisfied: certifi>=2017.4.17 in /home/marcel/.local/lib/python3.6/site-packages (from requests>=2.19.0->pooch>=1.0->librosa) (2020.12.5)\n",
      "Keyring is skipped due to an exception: org.freedesktop.DBus.Error.InvalidFileContent: D-Bus library appears to be incorrectly set up: see the manual page for dbus-uuidgen to correct this issue. (Failed to open \"/var/lib/dbus/machine-id\": No such file or directory; UUID file '/etc/machine-id' should contain a hex string of length 32, not length 0, with no other text)\n",
      "Defaulting to user installation because normal site-packages is not writeable\n",
      "Requirement already satisfied: pydub in /home/marcel/.local/lib/python3.6/site-packages (0.25.1)\n",
      "Keyring is skipped due to an exception: org.freedesktop.DBus.Error.InvalidFileContent: D-Bus library appears to be incorrectly set up: see the manual page for dbus-uuidgen to correct this issue. (Failed to open \"/var/lib/dbus/machine-id\": No such file or directory; UUID file '/etc/machine-id' should contain a hex string of length 32, not length 0, with no other text)\n",
      "Defaulting to user installation because normal site-packages is not writeable\n",
      "Requirement already satisfied: fastai==1.0.58 in /home/marcel/.local/lib/python3.6/site-packages (1.0.58)\n",
      "Requirement already satisfied: nvidia-ml-py3 in /home/marcel/.local/lib/python3.6/site-packages (from fastai==1.0.58) (7.352.0)\n",
      "Requirement already satisfied: scipy in /home/marcel/.local/lib/python3.6/site-packages (from fastai==1.0.58) (1.5.4)\n",
      "Requirement already satisfied: requests in /home/marcel/.local/lib/python3.6/site-packages (from fastai==1.0.58) (2.25.1)\n",
      "Requirement already satisfied: torchvision in /home/marcel/.local/lib/python3.6/site-packages (from fastai==1.0.58) (0.11.2)\n",
      "Requirement already satisfied: torch>=1.0.0 in /home/marcel/.local/lib/python3.6/site-packages (from fastai==1.0.58) (1.10.1)\n",
      "Requirement already satisfied: fastprogress>=0.1.19 in /home/marcel/.local/lib/python3.6/site-packages (from fastai==1.0.58) (1.0.2)\n",
      "Requirement already satisfied: bottleneck in /home/marcel/.local/lib/python3.6/site-packages (from fastai==1.0.58) (1.3.7)\n",
      "Requirement already satisfied: numexpr in /home/marcel/.local/lib/python3.6/site-packages (from fastai==1.0.58) (2.8.1)\n",
      "Requirement already satisfied: beautifulsoup4 in /home/marcel/.local/lib/python3.6/site-packages (from fastai==1.0.58) (4.11.1)\n",
      "Requirement already satisfied: matplotlib in /home/marcel/.local/lib/python3.6/site-packages (from fastai==1.0.58) (3.3.4)\n",
      "Requirement already satisfied: Pillow in /home/marcel/.local/lib/python3.6/site-packages (from fastai==1.0.58) (7.2.0)\n",
      "Requirement already satisfied: pyyaml in /usr/lib/python3/dist-packages (from fastai==1.0.58) (3.12)\n",
      "Requirement already satisfied: dataclasses in /home/marcel/.local/lib/python3.6/site-packages (from fastai==1.0.58) (0.8)\n",
      "Requirement already satisfied: pandas in /home/marcel/.local/lib/python3.6/site-packages (from fastai==1.0.58) (1.1.5)\n",
      "Requirement already satisfied: packaging in /home/marcel/.local/lib/python3.6/site-packages (from fastai==1.0.58) (21.3)\n",
      "Requirement already satisfied: numpy>=1.15 in /home/marcel/.local/lib/python3.6/site-packages (from fastai==1.0.58) (1.19.5)\n",
      "Requirement already satisfied: spacy>=2.0.18 in /home/marcel/.local/lib/python3.6/site-packages (from fastai==1.0.58) (3.3.1)\n",
      "Requirement already satisfied: cymem<2.1.0,>=2.0.2 in /home/marcel/.local/lib/python3.6/site-packages (from spacy>=2.0.18->fastai==1.0.58) (2.0.6)\n",
      "Requirement already satisfied: jinja2 in /home/marcel/.local/lib/python3.6/site-packages (from spacy>=2.0.18->fastai==1.0.58) (3.0.3)\n",
      "Requirement already satisfied: tqdm<5.0.0,>=4.38.0 in /home/marcel/.local/lib/python3.6/site-packages (from spacy>=2.0.18->fastai==1.0.58) (4.60.0)\n",
      "Requirement already satisfied: thinc<8.1.0,>=8.0.14 in /home/marcel/.local/lib/python3.6/site-packages (from spacy>=2.0.18->fastai==1.0.58) (8.0.17)\n",
      "Requirement already satisfied: pydantic!=1.8,!=1.8.1,<1.9.0,>=1.7.4 in /home/marcel/.local/lib/python3.6/site-packages (from spacy>=2.0.18->fastai==1.0.58) (1.8.2)\n",
      "Requirement already satisfied: preshed<3.1.0,>=3.0.2 in /home/marcel/.local/lib/python3.6/site-packages (from spacy>=2.0.18->fastai==1.0.58) (3.0.6)\n",
      "Requirement already satisfied: spacy-legacy<3.1.0,>=3.0.9 in /home/marcel/.local/lib/python3.6/site-packages (from spacy>=2.0.18->fastai==1.0.58) (3.0.9)\n",
      "Requirement already satisfied: setuptools in /home/marcel/.local/lib/python3.6/site-packages (from spacy>=2.0.18->fastai==1.0.58) (56.2.0)\n",
      "Requirement already satisfied: typer<0.5.0,>=0.3.0 in /home/marcel/.local/lib/python3.6/site-packages (from spacy>=2.0.18->fastai==1.0.58) (0.4.1)\n",
      "Requirement already satisfied: spacy-loggers<2.0.0,>=1.0.0 in /home/marcel/.local/lib/python3.6/site-packages (from spacy>=2.0.18->fastai==1.0.58) (1.0.2)\n",
      "Requirement already satisfied: typing-extensions<4.2.0,>=3.7.4 in /home/marcel/.local/lib/python3.6/site-packages (from spacy>=2.0.18->fastai==1.0.58) (4.1.1)\n",
      "Requirement already satisfied: srsly<3.0.0,>=2.4.3 in /home/marcel/.local/lib/python3.6/site-packages (from spacy>=2.0.18->fastai==1.0.58) (2.4.3)\n",
      "Requirement already satisfied: catalogue<2.1.0,>=2.0.6 in /home/marcel/.local/lib/python3.6/site-packages (from spacy>=2.0.18->fastai==1.0.58) (2.0.7)\n",
      "Requirement already satisfied: wasabi<1.1.0,>=0.9.1 in /home/marcel/.local/lib/python3.6/site-packages (from spacy>=2.0.18->fastai==1.0.58) (0.9.1)\n",
      "Requirement already satisfied: pathy>=0.3.5 in /home/marcel/.local/lib/python3.6/site-packages (from spacy>=2.0.18->fastai==1.0.58) (0.6.1)\n",
      "Requirement already satisfied: blis<0.8.0,>=0.4.0 in /home/marcel/.local/lib/python3.6/site-packages (from spacy>=2.0.18->fastai==1.0.58) (0.7.7)\n",
      "Requirement already satisfied: murmurhash<1.1.0,>=0.28.0 in /home/marcel/.local/lib/python3.6/site-packages (from spacy>=2.0.18->fastai==1.0.58) (1.0.7)\n",
      "Requirement already satisfied: langcodes<4.0.0,>=3.2.0 in /home/marcel/.local/lib/python3.6/site-packages (from spacy>=2.0.18->fastai==1.0.58) (3.3.0)\n",
      "Requirement already satisfied: pyparsing!=3.0.5,>=2.0.2 in /home/marcel/.local/lib/python3.6/site-packages (from packaging->fastai==1.0.58) (2.4.7)\n"
     ]
    },
    {
     "name": "stdout",
     "output_type": "stream",
     "text": [
      "Requirement already satisfied: chardet<5,>=3.0.2 in /home/marcel/.local/lib/python3.6/site-packages (from requests->fastai==1.0.58) (4.0.0)\n",
      "Requirement already satisfied: urllib3<1.27,>=1.21.1 in /home/marcel/.local/lib/python3.6/site-packages (from requests->fastai==1.0.58) (1.26.4)\n",
      "Requirement already satisfied: certifi>=2017.4.17 in /home/marcel/.local/lib/python3.6/site-packages (from requests->fastai==1.0.58) (2020.12.5)\n",
      "Requirement already satisfied: idna<3,>=2.5 in /home/marcel/.local/lib/python3.6/site-packages (from requests->fastai==1.0.58) (2.10)\n",
      "Requirement already satisfied: soupsieve>1.2 in /home/marcel/.local/lib/python3.6/site-packages (from beautifulsoup4->fastai==1.0.58) (2.3.2.post1)\n",
      "Requirement already satisfied: python-dateutil>=2.1 in /home/marcel/.local/lib/python3.6/site-packages (from matplotlib->fastai==1.0.58) (2.8.1)\n",
      "Requirement already satisfied: kiwisolver>=1.0.1 in /home/marcel/.local/lib/python3.6/site-packages (from matplotlib->fastai==1.0.58) (1.3.1)\n",
      "Requirement already satisfied: cycler>=0.10 in /home/marcel/.local/lib/python3.6/site-packages (from matplotlib->fastai==1.0.58) (0.10.0)\n",
      "Requirement already satisfied: pytz>=2017.2 in /home/marcel/.local/lib/python3.6/site-packages (from pandas->fastai==1.0.58) (2022.1)\n",
      "Requirement already satisfied: zipp>=0.5 in /home/marcel/.local/lib/python3.6/site-packages (from catalogue<2.1.0,>=2.0.6->spacy>=2.0.18->fastai==1.0.58) (3.4.1)\n",
      "Requirement already satisfied: six in /home/marcel/.local/lib/python3.6/site-packages (from cycler>=0.10->matplotlib->fastai==1.0.58) (1.15.0)\n",
      "Requirement already satisfied: smart-open<6.0.0,>=5.0.0 in /home/marcel/.local/lib/python3.6/site-packages (from pathy>=0.3.5->spacy>=2.0.18->fastai==1.0.58) (5.2.1)\n",
      "Requirement already satisfied: contextvars<3,>=2.4 in /home/marcel/.local/lib/python3.6/site-packages (from thinc<8.1.0,>=8.0.14->spacy>=2.0.18->fastai==1.0.58) (2.4)\n",
      "Requirement already satisfied: click<9.0.0,>=7.1.1 in /home/marcel/.local/lib/python3.6/site-packages (from typer<0.5.0,>=0.3.0->spacy>=2.0.18->fastai==1.0.58) (8.0.3)\n",
      "Requirement already satisfied: MarkupSafe>=2.0 in /home/marcel/.local/lib/python3.6/site-packages (from jinja2->spacy>=2.0.18->fastai==1.0.58) (2.0.1)\n",
      "Requirement already satisfied: importlib-metadata in /home/marcel/.local/lib/python3.6/site-packages (from click<9.0.0,>=7.1.1->typer<0.5.0,>=0.3.0->spacy>=2.0.18->fastai==1.0.58) (4.8.3)\n",
      "Requirement already satisfied: immutables>=0.9 in /home/marcel/.local/lib/python3.6/site-packages (from contextvars<3,>=2.4->thinc<8.1.0,>=8.0.14->spacy>=2.0.18->fastai==1.0.58) (0.18)\n"
     ]
    }
   ],
   "source": [
    "!pip install librosa\n",
    "!pip install pydub\n",
    "!pip install fastai==1.0.58"
   ]
  },
  {
   "cell_type": "code",
   "execution_count": 2,
   "metadata": {},
   "outputs": [
    {
     "name": "stderr",
     "output_type": "stream",
     "text": [
      "/home/marcel/.local/lib/python3.6/site-packages/numba/core/errors.py:154: UserWarning: Insufficiently recent colorama version found. Numba requires colorama >= 0.3.9\n",
      "  warnings.warn(msg)\n"
     ]
    }
   ],
   "source": [
    "import librosa\n",
    "import librosa.display\n",
    "import matplotlib.pyplot as plt\n",
    "import numpy as np\n",
    "import os\n",
    "import os.path\n",
    "from pydub import AudioSegment\n",
    "from pydub.utils import make_chunks\n",
    "import random\n",
    "from scipy.io import wavfile"
   ]
  },
  {
   "cell_type": "code",
   "execution_count": 3,
   "metadata": {},
   "outputs": [],
   "source": [
    "# processing parameter\n",
    "windowsize = 256  # the length of the windowing segments in spectrogram\n",
    "chunksize = 2000  # length of time window in milliseconds\n",
    "channel = 0  # channel 0 or 1 from the wav-file for spectrogram\n",
    "\n",
    "NOverlap = 0\n",
    "dt = 0.0005\n",
    "Fs = int(1.0 / dt)  # the sampling frequency"
   ]
  },
  {
   "cell_type": "code",
   "execution_count": 4,
   "metadata": {},
   "outputs": [],
   "source": [
    "# Create wav files chunks\n",
    "def create_chunks(path, filename, tag, chunksize=10000):\n",
    "    \"\"\"\n",
    "        This method splits the given wav file in wav files of chunk seconds size\n",
    "\n",
    "    :param filename: Original wav file\n",
    "    :param label: Label for new file\n",
    "    :param chunksize: Chunk size (default 10 sec.)\n",
    "    :return: List of splitted files\n",
    "    \"\"\"\n",
    "    print('=> create_chunks [dir %s, filename %s, chunksize %s]' % (path, filename, chunksize))\n",
    "\n",
    "    # list of files\n",
    "    files = []\n",
    "    # incoming file as loaded wav\n",
    "    myaudio = AudioSegment.from_file(os.path.join(path,filename), \"wav\")\n",
    "    # Make chunks of length of specified chunk size (in ms)\n",
    "    chunks = make_chunks(myaudio, chunksize)\n",
    "\n",
    "    img_name = os.path.split(filename)[1].split('.')[0]\n",
    "    directory = os.path.join(path,'chunks', tag)\n",
    "\n",
    "    if not os.path.exists(directory):\n",
    "        os.makedirs(directory)\n",
    "\n",
    "    # Export all of the individual chunks as wav files\n",
    "    for i, chunk in enumerate(chunks):\n",
    "        chunk_name = os.path.join(directory, '{0}-{1}.wav'.format(img_name, i))\n",
    "        print('\\t writing . %s' % chunk_name)\n",
    "        chunk.export(chunk_name, format=\"wav\")\n",
    "        files.append(chunk_name)\n",
    "    return files"
   ]
  },
  {
   "cell_type": "code",
   "execution_count": 5,
   "metadata": {},
   "outputs": [],
   "source": [
    "# reade wav file from disk\n",
    "def read_wav(fn):\n",
    "    # Read file and get sampling freq [ usually 44100 Hz ]  and sound object\n",
    "    samplefeq, mySound = wavfile.read(fn)\n",
    "    soundOneChannel = mySound[:]\n",
    "    return soundOneChannel"
   ]
  },
  {
   "cell_type": "code",
   "execution_count": 6,
   "metadata": {},
   "outputs": [
    {
     "name": "stdout",
     "output_type": "stream",
     "text": [
      "=> create_chunks [dir ./data/sound, filename data_ok.wav, chunksize 10000]\n",
      "\t writing . ./data/sound/chunks/ok/data_ok-0.wav\n",
      "\t writing . ./data/sound/chunks/ok/data_ok-1.wav\n",
      "\t writing . ./data/sound/chunks/ok/data_ok-2.wav\n",
      "\t writing . ./data/sound/chunks/ok/data_ok-3.wav\n",
      "\t writing . ./data/sound/chunks/ok/data_ok-4.wav\n",
      "\t writing . ./data/sound/chunks/ok/data_ok-5.wav\n",
      "\t writing . ./data/sound/chunks/ok/data_ok-6.wav\n",
      "\t writing . ./data/sound/chunks/ok/data_ok-7.wav\n",
      "\t writing . ./data/sound/chunks/ok/data_ok-8.wav\n",
      "\t writing . ./data/sound/chunks/ok/data_ok-9.wav\n",
      "\t writing . ./data/sound/chunks/ok/data_ok-10.wav\n",
      "\t writing . ./data/sound/chunks/ok/data_ok-11.wav\n",
      "\t writing . ./data/sound/chunks/ok/data_ok-12.wav\n",
      "\t writing . ./data/sound/chunks/ok/data_ok-13.wav\n",
      "\t writing . ./data/sound/chunks/ok/data_ok-14.wav\n",
      "\t writing . ./data/sound/chunks/ok/data_ok-15.wav\n",
      "\t writing . ./data/sound/chunks/ok/data_ok-16.wav\n",
      "\t writing . ./data/sound/chunks/ok/data_ok-17.wav\n"
     ]
    }
   ],
   "source": [
    "files = create_chunks(\"./data/sound\", \"data_ok.wav\", \"ok\")"
   ]
  },
  {
   "cell_type": "code",
   "execution_count": 7,
   "metadata": {},
   "outputs": [],
   "source": [
    "# create the name we need and creates the directory if it does not exist\n",
    "def create_spectrogram_name(fn, path, tag):\n",
    "    _path = os.path.abspath(os.path.join(path, 'train', tag))\n",
    "    if (not os.path.exists(_path)):\n",
    "        os.makedirs(_path)\n",
    "    return os.path.join(_path, fn)\n",
    "\n",
    "\n",
    "# save the given data as spectrogram to disc for given filename\n",
    "# https://stackoverflow.com/questions/47147146/save-spectrogram-only-content-without-axes-or-anything-else-to-a-file-using-m\n",
    "def create_spetrogram(path, fn, tag):\n",
    "    \"\"\"\n",
    "        Creates a spectrogram and store it as image.\n",
    "\n",
    "    :param path: Root data path\n",
    "    :param fn:  Filename of wav to be processed\n",
    "    :param format: Spectrogram format\n",
    "    :return:\n",
    "    \"\"\"\n",
    "    data = read_wav(fn)\n",
    "\n",
    "    fig, ax = plt.subplots(1)\n",
    "    fig.subplots_adjust(left=0, right=1, bottom=0, top=1)\n",
    "    ax.axis('off')\n",
    "\n",
    "    filename = os.path.split( fn )[1].split( '.' )[0]\n",
    "    fn = create_spectrogram_name( filename, path, tag )\n",
    "\n",
    "    data = np.array(data).astype('float')\n",
    "    S = librosa.feature.melspectrogram(y=data, sr=Fs)\n",
    "    librosa.display.specshow(librosa.power_to_db(S, ref=np.max))\n",
    "\n",
    "    print('\\t create spectrogram . %s' % os.path.abspath(fn))\n",
    "    fig.savefig(os.path.abspath(fn), dpi=300, frameon='false')\n",
    "    plt.close()"
   ]
  },
  {
   "cell_type": "code",
   "execution_count": 8,
   "metadata": {},
   "outputs": [
    {
     "name": "stdout",
     "output_type": "stream",
     "text": [
      "\t create spectrogram . /mnt/c/Users/tima268/repos/inf-ks/inf-ks-notebooks/data/train/ok/data_ok-0\n"
     ]
    },
    {
     "name": "stderr",
     "output_type": "stream",
     "text": [
      "/home/marcel/.local/lib/python3.6/site-packages/ipykernel_launcher.py:34: MatplotlibDeprecationWarning: savefig() got unexpected keyword argument \"frameon\" which is no longer supported as of 3.3 and will become an error two minor releases later\n"
     ]
    },
    {
     "name": "stdout",
     "output_type": "stream",
     "text": [
      "\t create spectrogram . /mnt/c/Users/tima268/repos/inf-ks/inf-ks-notebooks/data/train/ok/data_ok-1\n",
      "\t create spectrogram . /mnt/c/Users/tima268/repos/inf-ks/inf-ks-notebooks/data/train/ok/data_ok-2\n",
      "\t create spectrogram . /mnt/c/Users/tima268/repos/inf-ks/inf-ks-notebooks/data/train/ok/data_ok-3\n",
      "\t create spectrogram . /mnt/c/Users/tima268/repos/inf-ks/inf-ks-notebooks/data/train/ok/data_ok-4\n",
      "\t create spectrogram . /mnt/c/Users/tima268/repos/inf-ks/inf-ks-notebooks/data/train/ok/data_ok-5\n",
      "\t create spectrogram . /mnt/c/Users/tima268/repos/inf-ks/inf-ks-notebooks/data/train/ok/data_ok-6\n",
      "\t create spectrogram . /mnt/c/Users/tima268/repos/inf-ks/inf-ks-notebooks/data/train/ok/data_ok-7\n",
      "\t create spectrogram . /mnt/c/Users/tima268/repos/inf-ks/inf-ks-notebooks/data/train/ok/data_ok-8\n",
      "\t create spectrogram . /mnt/c/Users/tima268/repos/inf-ks/inf-ks-notebooks/data/train/ok/data_ok-9\n",
      "\t create spectrogram . /mnt/c/Users/tima268/repos/inf-ks/inf-ks-notebooks/data/train/ok/data_ok-10\n",
      "\t create spectrogram . /mnt/c/Users/tima268/repos/inf-ks/inf-ks-notebooks/data/train/ok/data_ok-11\n",
      "\t create spectrogram . /mnt/c/Users/tima268/repos/inf-ks/inf-ks-notebooks/data/train/ok/data_ok-12\n",
      "\t create spectrogram . /mnt/c/Users/tima268/repos/inf-ks/inf-ks-notebooks/data/train/ok/data_ok-13\n",
      "\t create spectrogram . /mnt/c/Users/tima268/repos/inf-ks/inf-ks-notebooks/data/train/ok/data_ok-14\n",
      "\t create spectrogram . /mnt/c/Users/tima268/repos/inf-ks/inf-ks-notebooks/data/train/ok/data_ok-15\n",
      "\t create spectrogram . /mnt/c/Users/tima268/repos/inf-ks/inf-ks-notebooks/data/train/ok/data_ok-16\n",
      "\t create spectrogram . /mnt/c/Users/tima268/repos/inf-ks/inf-ks-notebooks/data/train/ok/data_ok-17\n"
     ]
    }
   ],
   "source": [
    "for fn in files:\n",
    "    create_spetrogram( \"./data\", fn, \"ok\" )"
   ]
  },
  {
   "cell_type": "code",
   "execution_count": 9,
   "metadata": {},
   "outputs": [
    {
     "name": "stdout",
     "output_type": "stream",
     "text": [
      "=> create_chunks [dir ./data/sound, filename data_kavitation.wav, chunksize 10000]\n",
      "\t writing . ./data/sound/chunks/kavitation/data_kavitation-0.wav\n",
      "\t writing . ./data/sound/chunks/kavitation/data_kavitation-1.wav\n",
      "\t writing . ./data/sound/chunks/kavitation/data_kavitation-2.wav\n",
      "\t writing . ./data/sound/chunks/kavitation/data_kavitation-3.wav\n",
      "\t writing . ./data/sound/chunks/kavitation/data_kavitation-4.wav\n",
      "\t writing . ./data/sound/chunks/kavitation/data_kavitation-5.wav\n",
      "\t writing . ./data/sound/chunks/kavitation/data_kavitation-6.wav\n",
      "\t writing . ./data/sound/chunks/kavitation/data_kavitation-7.wav\n",
      "\t writing . ./data/sound/chunks/kavitation/data_kavitation-8.wav\n",
      "\t writing . ./data/sound/chunks/kavitation/data_kavitation-9.wav\n",
      "\t writing . ./data/sound/chunks/kavitation/data_kavitation-10.wav\n",
      "\t writing . ./data/sound/chunks/kavitation/data_kavitation-11.wav\n",
      "\t writing . ./data/sound/chunks/kavitation/data_kavitation-12.wav\n",
      "\t writing . ./data/sound/chunks/kavitation/data_kavitation-13.wav\n",
      "\t writing . ./data/sound/chunks/kavitation/data_kavitation-14.wav\n",
      "\t writing . ./data/sound/chunks/kavitation/data_kavitation-15.wav\n",
      "\t writing . ./data/sound/chunks/kavitation/data_kavitation-16.wav\n",
      "\t writing . ./data/sound/chunks/kavitation/data_kavitation-17.wav\n",
      "\t create spectrogram . /mnt/c/Users/tima268/repos/inf-ks/inf-ks-notebooks/data/sound/train/kavitation/data_kavitation-0\n"
     ]
    },
    {
     "name": "stderr",
     "output_type": "stream",
     "text": [
      "/home/marcel/.local/lib/python3.6/site-packages/ipykernel_launcher.py:34: MatplotlibDeprecationWarning: savefig() got unexpected keyword argument \"frameon\" which is no longer supported as of 3.3 and will become an error two minor releases later\n"
     ]
    },
    {
     "name": "stdout",
     "output_type": "stream",
     "text": [
      "\t create spectrogram . /mnt/c/Users/tima268/repos/inf-ks/inf-ks-notebooks/data/sound/train/kavitation/data_kavitation-1\n",
      "\t create spectrogram . /mnt/c/Users/tima268/repos/inf-ks/inf-ks-notebooks/data/sound/train/kavitation/data_kavitation-2\n",
      "\t create spectrogram . /mnt/c/Users/tima268/repos/inf-ks/inf-ks-notebooks/data/sound/train/kavitation/data_kavitation-3\n",
      "\t create spectrogram . /mnt/c/Users/tima268/repos/inf-ks/inf-ks-notebooks/data/sound/train/kavitation/data_kavitation-4\n",
      "\t create spectrogram . /mnt/c/Users/tima268/repos/inf-ks/inf-ks-notebooks/data/sound/train/kavitation/data_kavitation-5\n",
      "\t create spectrogram . /mnt/c/Users/tima268/repos/inf-ks/inf-ks-notebooks/data/sound/train/kavitation/data_kavitation-6\n",
      "\t create spectrogram . /mnt/c/Users/tima268/repos/inf-ks/inf-ks-notebooks/data/sound/train/kavitation/data_kavitation-7\n",
      "\t create spectrogram . /mnt/c/Users/tima268/repos/inf-ks/inf-ks-notebooks/data/sound/train/kavitation/data_kavitation-8\n",
      "\t create spectrogram . /mnt/c/Users/tima268/repos/inf-ks/inf-ks-notebooks/data/sound/train/kavitation/data_kavitation-9\n",
      "\t create spectrogram . /mnt/c/Users/tima268/repos/inf-ks/inf-ks-notebooks/data/sound/train/kavitation/data_kavitation-10\n",
      "\t create spectrogram . /mnt/c/Users/tima268/repos/inf-ks/inf-ks-notebooks/data/sound/train/kavitation/data_kavitation-11\n",
      "\t create spectrogram . /mnt/c/Users/tima268/repos/inf-ks/inf-ks-notebooks/data/sound/train/kavitation/data_kavitation-12\n",
      "\t create spectrogram . /mnt/c/Users/tima268/repos/inf-ks/inf-ks-notebooks/data/sound/train/kavitation/data_kavitation-13\n",
      "\t create spectrogram . /mnt/c/Users/tima268/repos/inf-ks/inf-ks-notebooks/data/sound/train/kavitation/data_kavitation-14\n",
      "\t create spectrogram . /mnt/c/Users/tima268/repos/inf-ks/inf-ks-notebooks/data/sound/train/kavitation/data_kavitation-15\n",
      "\t create spectrogram . /mnt/c/Users/tima268/repos/inf-ks/inf-ks-notebooks/data/sound/train/kavitation/data_kavitation-16\n",
      "\t create spectrogram . /mnt/c/Users/tima268/repos/inf-ks/inf-ks-notebooks/data/sound/train/kavitation/data_kavitation-17\n"
     ]
    }
   ],
   "source": [
    "files = create_chunks(\"./data/sound\", \"data_kavitation.wav\", \"kavitation\")\n",
    "for fn in files:\n",
    "    create_spetrogram( \"./data/sound\", fn, \"kavitation\" )"
   ]
  },
  {
   "cell_type": "markdown",
   "metadata": {},
   "source": [
    "\n",
    "# From here start your own classifier!"
   ]
  },
  {
   "cell_type": "code",
   "execution_count": null,
   "metadata": {},
   "outputs": [],
   "source": []
  }
 ],
 "metadata": {
  "interpreter": {
   "hash": "916dbcbb3f70747c44a77c7bcd40155683ae19c65e1c03b4aa3499c5328201f1"
  },
  "kernelspec": {
   "display_name": "Python 3",
   "language": "python",
   "name": "python3"
  },
  "language_info": {
   "codemirror_mode": {
    "name": "ipython",
    "version": 3
   },
   "file_extension": ".py",
   "mimetype": "text/x-python",
   "name": "python",
   "nbconvert_exporter": "python",
   "pygments_lexer": "ipython3",
   "version": "3.6.9"
  }
 },
 "nbformat": 4,
 "nbformat_minor": 2
}
