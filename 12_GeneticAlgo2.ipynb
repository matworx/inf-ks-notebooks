{
 "cells": [
  {
   "cell_type": "markdown",
   "id": "d974e2b5",
   "metadata": {},
   "source": [
    "# Genetic Algorithm\n",
    "\n",
    "**Knapsack Problem:**\n",
    "\n",
    "The knapsack problem is the following problem in combinatorial optimization:\n",
    "\n",
    "    Given a set of items, each with a weight and a value, determine which items to include in the collection so that the total weight is less than or equal to a given limit and the total value is as large as possible.\n",
    "    \n"
   ]
  },
  {
   "cell_type": "code",
   "execution_count": 28,
   "id": "eaade1e2",
   "metadata": {},
   "outputs": [
    {
     "name": "stdout",
     "output_type": "stream",
     "text": [
      "[[1, 0, 0, 1], [1, 0, 0, 0], [0, 0, 1, 1], [0, 0, 0, 0], [0, 1, 1, 1], [1, 0, 0, 0], [0, 0, 1, 0], [0, 1, 0, 1], [0, 0, 1, 1], [0, 1, 0, 1], [0, 0, 1, 1], [0, 0, 1, 0], [1, 1, 0, 0], [0, 1, 0, 0], [0, 0, 1, 0], [0, 0, 1, 1], [0, 0, 1, 1], [1, 1, 1, 1], [1, 0, 0, 0], [1, 1, 1, 1], [0, 0, 1, 0], [1, 0, 0, 1], [0, 0, 1, 0], [1, 0, 1, 1], [1, 1, 0, 1], [1, 1, 0, 0], [1, 0, 0, 1], [0, 0, 1, 1], [0, 1, 0, 1], [0, 0, 0, 1], [0, 0, 0, 1], [1, 1, 1, 1], [0, 0, 1, 1], [0, 0, 1, 1], [1, 0, 1, 1], [0, 1, 0, 0], [1, 1, 0, 1], [1, 0, 0, 1], [0, 0, 1, 1], [1, 0, 0, 0], [0, 1, 0, 0], [1, 0, 1, 0], [0, 1, 0, 0], [0, 1, 1, 0], [0, 0, 0, 1], [1, 1, 1, 1], [1, 1, 0, 0], [0, 0, 0, 1], [0, 1, 1, 0], [1, 1, 1, 0]]\n"
     ]
    }
   ],
   "source": [
    "import random\n",
    "\n",
    "# Define the items and their values/weights\n",
    "items = [\n",
    "    {'name': 'item1', 'value': 10, 'weight': 3},\n",
    "    {'name': 'item2', 'value': 8, 'weight': 2},\n",
    "    {'name': 'item3', 'value': 15, 'weight': 5},\n",
    "    {'name': 'item4', 'value': 12, 'weight': 4}\n",
    "]\n",
    "\n",
    "# Define the knapsack capacity and population size\n",
    "knapsack_capacity = 6\n",
    "population_size = 50\n",
    "mutate_rate=0.1\n",
    "\n",
    "# Generate the initial population\n",
    "def generate_population():\n",
    "    population = []\n",
    "    for _ in range(population_size):\n",
    "        individual = [random.randint(0, 1) for _ in range(len(items))]\n",
    "        population.append(individual)\n",
    "    return population\n",
    "\n",
    "pop= generate_population()\n",
    "print(pop)"
   ]
  },
  {
   "cell_type": "markdown",
   "id": "1fdc5b3c",
   "metadata": {},
   "source": [
    "Calculate fitness, parents selection, crossover and mutation"
   ]
  },
  {
   "cell_type": "code",
   "execution_count": 31,
   "id": "34366f24",
   "metadata": {},
   "outputs": [
    {
     "name": "stdout",
     "output_type": "stream",
     "text": [
      "[0, 10, 0, 0, 0, 10, 15, 20, 0, 20, 0, 15, 18, 8, 15, 0, 0, 0, 10, 0, 15, 0, 15, 0, 0, 18, 0, 0, 20, 12, 12, 0, 0, 0, 0, 8, 0, 0, 0, 10, 8, 0, 8, 0, 12, 0, 18, 12, 0, 0]\n",
      "[[0, 1, 0, 0], [0, 0, 0, 1]]\n",
      "[0, 1, 0, 1]\n",
      "[0, 1, 0, 1]\n"
     ]
    }
   ],
   "source": [
    "\n",
    "# Calculate the fitness of an individual\n",
    "def calculate_fitness(individual):\n",
    "    total_value = 0\n",
    "    total_weight = 0\n",
    "    for i in range(len(individual)):\n",
    "        if individual[i] == 1:\n",
    "            total_value += items[i]['value']\n",
    "            total_weight += items[i]['weight']\n",
    "    if total_weight > knapsack_capacity:\n",
    "        total_value = 0\n",
    "    return total_value\n",
    "\n",
    "# Select parents based on fitness proportionate selection\n",
    "def select_parents(population):\n",
    "    total_fitness = sum(calculate_fitness(individual) for individual in population)\n",
    "    parents = []\n",
    "    for _ in range(2):\n",
    "        r = random.uniform(0, total_fitness)\n",
    "        partial_sum = 0\n",
    "        for individual in population:\n",
    "            partial_sum += calculate_fitness(individual)\n",
    "            if partial_sum >= r:\n",
    "                parents.append(individual)\n",
    "                break\n",
    "    return parents\n",
    "\n",
    "# Perform crossover between parents to generate offspring\n",
    "def crossover(parents):\n",
    "    crossover_point = random.randint(1, len(items) - 1)\n",
    "    offspring = parents[0][:crossover_point] + parents[1][crossover_point:]\n",
    "    return offspring\n",
    "\n",
    "# Mutate a chromosome based on a mutation rate\n",
    "def mutate(individual):\n",
    "    mutated_individual = []\n",
    "    for gene in individual:\n",
    "        if random.random() < mutate_rate:\n",
    "            mutated_individual.append(1 - gene)\n",
    "        else:\n",
    "            mutated_individual.append(gene)\n",
    "    return mutated_individual\n",
    "\n",
    "print([calculate_fitness(i) for i in pop])\n",
    "\n",
    "par = select_parents(pop)\n",
    "print(par)\n",
    "\n",
    "offspring =crossover(par)\n",
    "print(offspring)\n",
    "\n",
    "print(mutate(offspring))"
   ]
  },
  {
   "cell_type": "markdown",
   "id": "85b1b156",
   "metadata": {},
   "source": [
    "## Finally"
   ]
  },
  {
   "cell_type": "code",
   "execution_count": 33,
   "id": "3c22c620",
   "metadata": {},
   "outputs": [
    {
     "name": "stdout",
     "output_type": "stream",
     "text": [
      "Generation 1: [0, 1, 0, 0] Fitness 8\n",
      "Generation 2: [0, 1, 0, 1] Fitness 20\n"
     ]
    }
   ],
   "source": [
    "\n",
    "\n",
    "# Evolve the population using the Genetic Algorithm\n",
    "def evolve_population():\n",
    "    population = generate_population()\n",
    "    generation = 1\n",
    "    while True:\n",
    "        parents = select_parents(population)\n",
    "        offspring = crossover(parents)\n",
    "        mutated_offspring = mutate(offspring)\n",
    "        population.append(mutated_offspring)\n",
    "\n",
    "        print(f\"Generation {generation}: {mutated_offspring} Fitness {calculate_fitness(mutated_offspring)}\")\n",
    "        \n",
    "        if calculate_fitness(mutated_offspring) >= 20:\n",
    "            break\n",
    "        \n",
    "        generation += 1\n",
    "\n",
    "# Run the genetic algorithm\n",
    "evolve_population()\n"
   ]
  },
  {
   "cell_type": "code",
   "execution_count": null,
   "id": "bee56da9",
   "metadata": {},
   "outputs": [],
   "source": []
  }
 ],
 "metadata": {
  "kernelspec": {
   "display_name": "Python 3 (ipykernel)",
   "language": "python",
   "name": "python3"
  },
  "language_info": {
   "codemirror_mode": {
    "name": "ipython",
    "version": 3
   },
   "file_extension": ".py",
   "mimetype": "text/x-python",
   "name": "python",
   "nbconvert_exporter": "python",
   "pygments_lexer": "ipython3",
   "version": "3.9.12"
  }
 },
 "nbformat": 4,
 "nbformat_minor": 5
}
