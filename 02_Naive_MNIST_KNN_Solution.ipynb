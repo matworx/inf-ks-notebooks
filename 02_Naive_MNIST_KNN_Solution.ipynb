{
  "cells": [
    {
      "metadata": {},
      "cell_type": "markdown",
      "source": "## Aufgabe: Neuronales Netz\n\nDiese Programieraufgabe berechnet ein neuronales Netz fuer einen Beispieldatensatz. Es geht darum einen Klassifizierer zu trainieren, der Ziffern erkennen soll.\n\nGegeben sind folgende Ziffern zum Training:\n"
    },
    {
      "metadata": {},
      "cell_type": "markdown",
      "source": "![](numbers.jpg)"
    },
    {
      "metadata": {},
      "cell_type": "markdown",
      "source": "### Augabe 1:\n\nBilden sie die Ziffern in einem Numpy-Array X ab und und die Label in einem weiteren Numpy-Array Y:"
    },
    {
      "metadata": {
        "trusted": true
      },
      "cell_type": "code",
      "source": "import numpy as np\nnp.set_printoptions(suppress=True)",
      "execution_count": 9,
      "outputs": []
    },
    {
      "metadata": {
        "trusted": true
      },
      "cell_type": "code",
      "source": "X = np.array([[0,0,1,0,0,1,1,0,1,0,1,0,0,0,1,0,0,0,1,0],  # Ziffer '1'\\n\",\n              [0,1,1,0,1,0,0,1,0,0,1,0,0,1,0,0,1,1,1,1],  # Ziffer '2'\\n\",\n              [0,1,1,0,1,0,0,1,0,0,1,1,1,0,0,1,0,1,1,0]]) # Ziffer '3'\\n\" Ziffer '3'\n\nY = np.array([[1,0,0],  # klassifiziert als ‚1’\n              [0,1,0],  # klassifiziert als ‚2’\n              [0,0,1]]) # klassifiziert als ‚3’",
      "execution_count": 10,
      "outputs": []
    },
    {
      "metadata": {},
      "cell_type": "markdown",
      "source": "**Test, ob die Arrays auch wirklich richtig eingegeben wurden**"
    },
    {
      "metadata": {
        "trusted": true
      },
      "cell_type": "code",
      "source": "import numpy as np\nimport matplotlib.pyplot as plt\n\nQ = np.reshape(X, (3,5,4))\n\ncmap = plt.cm.Greys\n\nfig, ax = plt.subplots(Q.shape[0])\n\nfor i in range(ax.shape[0]):\n    ax[i].set_aspect('equal')\n    ax[i].set_axis_off()\n    ax[i].pcolor(np.flipud(Q[i]), edgecolors='k', linewidths=2, cmap=cmap)\n\nfig.tight_layout()\nplt.show()\n",
      "execution_count": 11,
      "outputs": [
        {
          "output_type": "display_data",
          "data": {
            "image/png": "[encoded data removed]",
            "text/plain": "<matplotlib.figure.Figure at 0x7f602acd4390>"
          },
          "metadata": {}
        }
      ]
    },
    {
      "metadata": {},
      "cell_type": "markdown",
      "source": "## Aufgabe 2:\n\n\nSchreiben Sie die Hilfsfunktionen zur Berechnung des sigmoid und der Funktion eines Neuron (incl. Aktivierung durch sigmoids):"
    },
    {
      "metadata": {
        "trusted": true
      },
      "cell_type": "code",
      "source": "# Sigmoid Berechnung\ndef sigmoid(x):\n    # your code goes here\n    return 1/(1+np.exp(-x))\n\n# Ableitung vom sigmoid\ndef sigmoid_d(x):\n    return sigmoid(x)*(1-sigmoid(x))\n\n# Neuron \ndef neuron(I,W,f):\n    # your code goes here\n    return f(np.dot(I,W))\n\n# Layer \ndef layer(I,W):\n    # your code goes here\n    return neuron(I,W,sigmoid)\n\n# Test\nprint(neuron(np.array([1,2,3]), np.array([1,1,1]), sigmoid))\n\n# das Resultat sollte 0.9975273768433653 sein!!!!\n",
      "execution_count": 13,
      "outputs": [
        {
          "output_type": "stream",
          "text": "0.9975273768433653\n",
          "name": "stdout"
        }
      ]
    },
    {
      "metadata": {},
      "cell_type": "markdown",
      "source": "### Aufgabe 3:\n\nInitialisiere das neuronale Netz und verknuepfe die Layer. Das Netz sollte einen Input-Layer (L0), 1 Hidden-Layer (L1) und einen Output-Layer (L3) haben.\n\n"
    },
    {
      "metadata": {
        "trusted": true
      },
      "cell_type": "code",
      "source": "# Initialisierung\nnp.random.seed(1)       \n\n# Verknuepfe Input- mit Hidden-Layer\n\n# wieviele  Eingangswerte gibt es?\n# und waehle beliebig Neuronen im Hidden-Layer\nW0 = np.random.random((20,30)) \n\n# Verknuepfe Hidden- mit Output-Layer\n\n# wieviele  Ausgangswerte gibt es?\n\nW1 = np.random.random((30,3))\n\n\nL0 = X              # Input Layer\nL1 = layer(L0, W0)  # Hidden Layer\nL3 = layer(L1, W1)  # Output Layer\nprint(L3)\n\n# Das sollte laufen und folgendes ausgeben\n#[[0.99999987 0.99999897 0.99999929]\n# [0.99999992 0.99999932 0.9999995 ]\n# [0.99999992 0.99999931 0.9999995 ]]\n",
      "execution_count": 14,
      "outputs": [
        {
          "output_type": "stream",
          "text": "[[0.99999987 0.99999897 0.99999929]\n [0.99999992 0.99999932 0.9999995 ]\n [0.99999992 0.99999931 0.9999995 ]]\n",
          "name": "stdout"
        }
      ]
    },
    {
      "metadata": {},
      "cell_type": "markdown",
      "source": "## Aufgabe 4:\n\nDas eigentliche Herzstueck. Implementiere den Backpropagation-Algorithmus ueber dieses neuronale Netz. Hierzu:\n1. Berechne das Resultat, sprich fuehre Forward-Propagation aus\n2. Ermittle den Fehler zwischen dem Resultat und Y\n3. Bestimme das Delta mit dem die Wichtungen zwischen Hidden und Output-Layer angepasst werden muss\n4. Bestimme das Delta mit dem die Wichtungen zwischen Hidden und Input-Layer anpasst werden muss\n5. Wiederhole das Ganze, bis der Fehler kleiner 0.05 ist!"
    },
    {
      "metadata": {
        "trusted": true
      },
      "cell_type": "code",
      "source": "errA = []\n\nfor i in range(60000):\n    \n    L0 = X\n    L1 = layer(L0, W0)\n    L2 = layer(L1, W1)\n\n    L2_err = Y - L2\n    # print(tL2)\n    L2_delta = L2_err * sigmoid_d(L2)\n    W1 += np.dot(L1.T, L2_delta)\n    \n    \n    err = np.mean(np.abs(L2_err))\n    print(\"%s Error: %6.10f\" % (i, err))\n    errA.append(err)\n        \n    if np.mean(np.abs(L2_err)) < 0.05:\n        break\n\n    L1_err = np.dot(L2_delta, W1.T)    \n    L1_delta = L1_err * sigmoid_d(L1)\n    W0 += np.dot(L0.T, L1_delta)\n    \nplt.plot(errA)\nplt.show()",
      "execution_count": 15,
      "outputs": [
        {
          "output_type": "stream",
          "text": "0 Error: 0.6666664684\n1 Error: 0.6532297798\n2 Error: 0.3335503084\n3 Error: 0.4857498090\n4 Error: 0.3684471186\n5 Error: 0.6226404010\n6 Error: 0.3334557970\n7 Error: 0.4484668228\n8 Error: 0.4027772739\n9 Error: 0.5400987772\n10 Error: 0.3447847136\n11 Error: 0.5710967506\n12 Error: 0.3582730959\n13 Error: 0.4691820316\n14 Error: 0.4098541233\n15 Error: 0.4590375682\n16 Error: 0.4429856326\n17 Error: 0.5147953030\n18 Error: 0.3566456630\n19 Error: 0.4735943397\n20 Error: 0.3602927298\n21 Error: 0.5524502545\n22 Error: 0.3335885476\n23 Error: 0.5313577609\n24 Error: 0.3620581886\n25 Error: 0.4276051789\n26 Error: 0.3539517666\n27 Error: 0.5168308066\n28 Error: 0.4263797779\n29 Error: 0.3881121379\n30 Error: 0.3420964238\n31 Error: 0.4377456062\n32 Error: 0.3048748720\n33 Error: 0.4488094186\n34 Error: 0.3306011919\n35 Error: 0.5153013873\n36 Error: 0.3330783323\n37 Error: 0.3727043320\n38 Error: 0.2961838752\n39 Error: 0.4968660455\n40 Error: 0.3309216504\n41 Error: 0.3720174572\n42 Error: 0.3233973557\n43 Error: 0.5007600121\n44 Error: 0.3285126049\n45 Error: 0.3317745617\n46 Error: 0.3112740772\n47 Error: 0.4896617262\n48 Error: 0.3165319857\n49 Error: 0.2998209775\n50 Error: 0.2836812125\n51 Error: 0.4148503831\n52 Error: 0.2562653378\n53 Error: 0.2360520423\n54 Error: 0.2317294554\n55 Error: 0.3572273026\n56 Error: 0.2392219169\n57 Error: 0.2381845546\n58 Error: 0.2277908534\n59 Error: 0.3300247331\n60 Error: 0.2315876599\n61 Error: 0.2327514672\n62 Error: 0.2200057743\n63 Error: 0.3075090294\n64 Error: 0.2196461673\n65 Error: 0.2127715017\n66 Error: 0.2047970391\n67 Error: 0.2780697575\n68 Error: 0.1999572670\n69 Error: 0.1799326432\n70 Error: 0.1767327216\n71 Error: 0.2298464541\n72 Error: 0.1641826527\n73 Error: 0.1421150105\n74 Error: 0.1460249043\n75 Error: 0.1990644333\n76 Error: 0.1504864789\n77 Error: 0.1406750795\n78 Error: 0.1417706259\n79 Error: 0.1847946309\n80 Error: 0.1468882141\n81 Error: 0.1441332165\n82 Error: 0.1391798765\n83 Error: 0.1699846626\n84 Error: 0.1426007471\n85 Error: 0.1473080434\n86 Error: 0.1362872315\n87 Error: 0.1557870614\n88 Error: 0.1366770361\n89 Error: 0.1459481972\n90 Error: 0.1317458435\n91 Error: 0.1429350385\n92 Error: 0.1283699645\n93 Error: 0.1361100974\n94 Error: 0.1227324339\n95 Error: 0.1271461138\n96 Error: 0.1146793697\n97 Error: 0.1136156559\n98 Error: 0.1013954334\n99 Error: 0.0916395576\n100 Error: 0.0786893378\n101 Error: 0.0639483620\n102 Error: 0.0578372433\n103 Error: 0.0541539045\n104 Error: 0.0536504912\n105 Error: 0.0528948662\n106 Error: 0.0523878390\n107 Error: 0.0518276923\n108 Error: 0.0512976615\n109 Error: 0.0507693328\n110 Error: 0.0502508244\n111 Error: 0.0497394576\n",
          "name": "stdout"
        },
        {
          "output_type": "display_data",
          "data": {
            "image/png": "[encoded data removed]",
            "text/plain": "<matplotlib.figure.Figure at 0x7f602ac89c88>"
          },
          "metadata": {}
        }
      ]
    },
    {
      "metadata": {},
      "cell_type": "markdown",
      "source": "### Aufgabe 5:\nZeit zum Testen. Wir schauen mal ob das Modell nun auch Abweichungen erkennen kann und richtig klassifieziert.\nHierzu gibt es folgende Abweichungen:"
    },
    {
      "metadata": {},
      "cell_type": "markdown",
      "source": "![Abweichungen](numbers_new.jpg)"
    },
    {
      "metadata": {},
      "cell_type": "markdown",
      "source": "Zunaechst kurz ueberlegen, wie das als Numpy-Array abgebildet werden kann!"
    },
    {
      "metadata": {
        "trusted": true
      },
      "cell_type": "code",
      "source": "# Test1\nL0 = np.array([[0,0,1,0,0,1,1,0,0,0,1,0,0,0,1,0,0,0,0,0]])\nL1 = layer(L0, W0)\nL2 = layer(L1, W1)\n\nprint(L2)\n# Ausgabe etwas wie\n# [[0.95764431 0.02022213 0.00282105]]\n",
      "execution_count": 16,
      "outputs": [
        {
          "output_type": "stream",
          "text": "[[0.95764431 0.02022213 0.00282105]]\n",
          "name": "stdout"
        }
      ]
    },
    {
      "metadata": {},
      "cell_type": "markdown",
      "source": "Was heisst das Ergebnis?"
    },
    {
      "metadata": {},
      "cell_type": "markdown",
      "source": "Test 2"
    },
    {
      "metadata": {
        "trusted": true
      },
      "cell_type": "code",
      "source": "# Test 2\nL0 = np.array([[0,0,1,0,0,0,1,0,0,0,1,0,0,0,1,0,0,0,1,0]])\nL1 = layer(L0, W0)\nL2 = layer(L1, W1)\n\nprint(L2)\n\n# Ausgabe etwas wie\n# [[0.88233092 0.05561936 0.00533852]]",
      "execution_count": 17,
      "outputs": [
        {
          "output_type": "stream",
          "text": "[[0.88233092 0.05561936 0.00533852]]\n",
          "name": "stdout"
        }
      ]
    }
  ],
  "metadata": {
    "kernelspec": {
      "name": "python3",
      "display_name": "Python 3",
      "language": "python"
    },
    "language_info": {
      "mimetype": "text/x-python",
      "nbconvert_exporter": "python",
      "name": "python",
      "file_extension": ".py",
      "version": "3.5.4",
      "pygments_lexer": "ipython3",
      "codemirror_mode": {
        "version": 3,
        "name": "ipython"
      }
    }
  },
  "nbformat": 4,
  "nbformat_minor": 2
}