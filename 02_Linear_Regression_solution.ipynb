{
 "cells": [
  {
   "cell_type": "markdown",
   "metadata": {
    "id": "XQO76blmrYUE"
   },
   "source": [
    "# Linear Regression\n",
    "\n",
    "With linear regressions we are trying to find the linear correlation between X and Y!\n",
    "\n",
    "First, let us take a trip back to middle school, where we brush up on the definition of a simple straight line: y = mx + b, where m is the slope and b is the y-intercept. This would be the equation used to discover y, and we could rearrange it instead to discover x using basic algebraic principles: x = (y-b) / m.\n",
    "Alright, so, our objective is to find the best-fit line. Not just a good-fit line, the best one! The definition of this line will be y = mx + b. The y is the answer (our other coordinate, or it could even be our \"feature\"), so we'll still be needing m (the slope) and b (y-intercept), since x could be any possible point along the x-axis, so it is already known.\n",
    "\n",
    "Let's see what it means:"
   ]
  },
  {
   "cell_type": "code",
   "execution_count": 20,
   "metadata": {
    "colab": {
     "base_uri": "https://localhost:8080/",
     "height": 279
    },
    "id": "sOzjob6orYUO",
    "outputId": "350a465f-06c4-4b16-ff36-2e91ccd92036"
   },
   "outputs": [
    {
     "data": {
      "image/png": "[encoded data removed]",
      "text/plain": [
       "<Figure size 640x480 with 1 Axes>"
      ]
     },
     "metadata": {},
     "output_type": "display_data"
    }
   ],
   "source": [
    "# imports\n",
    "import numpy as np\n",
    "import matplotlib.pyplot as plt\n",
    "\n",
    "# generate random data-set\n",
    "np.random.seed(0)\n",
    "x = np.random.rand(100, 1)\n",
    "y = 2 + 3 * x + np.random.rand(100, 1)\n",
    "\n",
    "# plot\n",
    "plt.scatter(x,y,s=10)\n",
    "plt.xlabel('x')\n",
    "plt.ylabel('y')\n",
    "plt.show()"
   ]
  },
  {
   "cell_type": "code",
   "execution_count": 21,
   "metadata": {
    "colab": {
     "base_uri": "https://localhost:8080/"
    },
    "id": "y49A3gncrYUR",
    "outputId": "58900201-de59-4380-f644-51a72ef92c15"
   },
   "outputs": [
    {
     "data": {
      "text/plain": [
       "(100, 1)"
      ]
     },
     "execution_count": 21,
     "metadata": {},
     "output_type": "execute_result"
    }
   ],
   "source": [
    "np.shape(y)"
   ]
  },
  {
   "cell_type": "code",
   "execution_count": 22,
   "metadata": {},
   "outputs": [
    {
     "data": {
      "text/plain": [
       "1"
      ]
     },
     "execution_count": 22,
     "metadata": {},
     "output_type": "execute_result"
    }
   ],
   "source": [
    "x.shape[1]"
   ]
  },
  {
   "cell_type": "markdown",
   "metadata": {
    "id": "t4Pv1QWsrYUT"
   },
   "source": [
    "## Implementing Linear Regression from scratch\n",
    "\n",
    "The complete implementation of linear regression with gradient descent is given below."
   ]
  },
  {
   "cell_type": "code",
   "execution_count": 23,
   "metadata": {
    "id": "oh9GvPWqrYUU"
   },
   "outputs": [],
   "source": [
    "# imports\n",
    "import numpy as np\n",
    "\n",
    "\n",
    "class LinearRegressionUsingGD:\n",
    "    \"\"\"Linear Regression Using Gradient Descent.\n",
    "    \n",
    "    Parameters\n",
    "    ----------\n",
    "    eta : float \n",
    "        Learning rate\n",
    "    n_iterations : int\n",
    "        No of passes over the training set\n",
    "    Attributes\n",
    "    ----------\n",
    "    w_ : weights/ after fitting the model\n",
    "    cost_ : total error of the model after each iteration\n",
    "    \"\"\"\n",
    "\n",
    "    def __init__(self, eta=0.05, n_iterations=1000):\n",
    "        self.eta = eta\n",
    "        self.n_iterations = n_iterations\n",
    "\n",
    "    def cost_function(self, y_tilde, x, m, b):\n",
    "        total_error = 0.0\n",
    "        for i in range(len(y_tilde)):\n",
    "            total_error += (y_tilde - m*x[i] + b)**2\n",
    "        return total_error / len(y_tilde)\n",
    "\n",
    "    def fit(self, x, y):\n",
    "        \"\"\"Fit the training data\n",
    "        Parameters\n",
    "        ----------\n",
    "        x : array-like, shape = [n_samples, n_features]\n",
    "            Training samples\n",
    "        y : array-like, shape = [n_samples, n_target_values]\n",
    "            Target values\n",
    "        Returns\n",
    "        -------\n",
    "        self : object\n",
    "        \"\"\"\n",
    "\n",
    "        self.cost_ = []\n",
    "        self.w_ = np.zeros((x.shape[1], 1))\n",
    "        m = x.shape[0]\n",
    "\n",
    "        for _ in range(self.n_iterations):\n",
    "            y_pred = np.dot(x, self.w_)\n",
    "            residuals = y_pred - y\n",
    "            gradient_vector = np.dot(x.T, residuals)\n",
    "            self.w_ -= (self.eta / m) * gradient_vector\n",
    "            cost = np.sum((residuals ** 2)) / (2 * m)\n",
    "            self.cost_.append(cost)\n",
    "        return self\n",
    "\n",
    "    def predict(self, x):\n",
    "        \"\"\" Predicts the value after the model has been trained.\n",
    "        Parameters\n",
    "        ----------\n",
    "        x : array-like, shape = [n_samples, n_features]\n",
    "            Test samples\n",
    "        Returns\n",
    "        -------\n",
    "        Predicted value\n",
    "        \"\"\"\n",
    "        return np.dot(x, self.w_)"
   ]
  },
  {
   "cell_type": "code",
   "execution_count": 24,
   "metadata": {
    "colab": {
     "base_uri": "https://localhost:8080/"
    },
    "id": "c7K-oKihrYUV",
    "outputId": "c55334d0-f0a5-45ff-a98b-1d2f989eb782"
   },
   "outputs": [
    {
     "data": {
      "text/plain": [
       "<__main__.LinearRegressionUsingGD at 0x7f7fe1692650>"
      ]
     },
     "execution_count": 24,
     "metadata": {},
     "output_type": "execute_result"
    }
   ],
   "source": [
    "# transform the feature vectors to include the bias term\n",
    "# adding 1 to all the instances of the training set.\n",
    "m = x.shape[0]\n",
    "x_train = np.c_[np.ones((m, 1)), x]\n",
    "\n",
    "lr = LinearRegressionUsingGD()\n",
    "lr.fit(x,y)"
   ]
  },
  {
   "cell_type": "code",
   "execution_count": 25,
   "metadata": {
    "colab": {
     "base_uri": "https://localhost:8080/"
    },
    "id": "td6jw1DcrYUV",
    "outputId": "d8a496c2-0e06-462d-d0e8-7a66a7f72f88"
   },
   "outputs": [
    {
     "name": "stdout",
     "output_type": "stream",
     "text": [
      "Intercept:[6.88058122]\n"
     ]
    },
    {
     "ename": "IndexError",
     "evalue": "index 1 is out of bounds for axis 0 with size 1",
     "output_type": "error",
     "traceback": [
      "\u001b[0;31m---------------------------------------------------------------------------\u001b[0m",
      "\u001b[0;31mIndexError\u001b[0m                                Traceback (most recent call last)",
      "Cell \u001b[0;32mIn [25], line 2\u001b[0m\n\u001b[1;32m      1\u001b[0m \u001b[38;5;28mprint\u001b[39m(\u001b[38;5;124m\"\u001b[39m\u001b[38;5;124mIntercept:\u001b[39m\u001b[38;5;124m\"\u001b[39m \u001b[38;5;241m+\u001b[39m \u001b[38;5;28mstr\u001b[39m(lr\u001b[38;5;241m.\u001b[39mw_[\u001b[38;5;241m0\u001b[39m]))\n\u001b[0;32m----> 2\u001b[0m \u001b[38;5;28mprint\u001b[39m(\u001b[38;5;124m\"\u001b[39m\u001b[38;5;124mSlope    :\u001b[39m\u001b[38;5;124m\"\u001b[39m \u001b[38;5;241m+\u001b[39m \u001b[38;5;28mstr\u001b[39m(\u001b[43mlr\u001b[49m\u001b[38;5;241;43m.\u001b[39;49m\u001b[43mw_\u001b[49m\u001b[43m[\u001b[49m\u001b[38;5;241;43m1\u001b[39;49m\u001b[43m]\u001b[49m))\n",
      "\u001b[0;31mIndexError\u001b[0m: index 1 is out of bounds for axis 0 with size 1"
     ]
    }
   ],
   "source": [
    "print(\"Intercept:\" + str(lr.w_[0]))\n",
    "print(\"Slope    :\" + str(lr.w_[1]))"
   ]
  },
  {
   "cell_type": "code",
   "execution_count": 26,
   "metadata": {},
   "outputs": [
    {
     "name": "stdout",
     "output_type": "stream",
     "text": [
      "[[1.         0.5488135 ]\n",
      " [1.         0.71518937]\n",
      " [1.         0.60276338]\n",
      " [1.         0.54488318]\n",
      " [1.         0.4236548 ]\n",
      " [1.         0.64589411]\n",
      " [1.         0.43758721]\n",
      " [1.         0.891773  ]\n",
      " [1.         0.96366276]\n",
      " [1.         0.38344152]\n",
      " [1.         0.79172504]\n",
      " [1.         0.52889492]\n",
      " [1.         0.56804456]\n",
      " [1.         0.92559664]\n",
      " [1.         0.07103606]\n",
      " [1.         0.0871293 ]\n",
      " [1.         0.0202184 ]\n",
      " [1.         0.83261985]\n",
      " [1.         0.77815675]\n",
      " [1.         0.87001215]\n",
      " [1.         0.97861834]\n",
      " [1.         0.79915856]\n",
      " [1.         0.46147936]\n",
      " [1.         0.78052918]\n",
      " [1.         0.11827443]\n",
      " [1.         0.63992102]\n",
      " [1.         0.14335329]\n",
      " [1.         0.94466892]\n",
      " [1.         0.52184832]\n",
      " [1.         0.41466194]\n",
      " [1.         0.26455561]\n",
      " [1.         0.77423369]\n",
      " [1.         0.45615033]\n",
      " [1.         0.56843395]\n",
      " [1.         0.0187898 ]\n",
      " [1.         0.6176355 ]\n",
      " [1.         0.61209572]\n",
      " [1.         0.616934  ]\n",
      " [1.         0.94374808]\n",
      " [1.         0.6818203 ]\n",
      " [1.         0.3595079 ]\n",
      " [1.         0.43703195]\n",
      " [1.         0.6976312 ]\n",
      " [1.         0.06022547]\n",
      " [1.         0.66676672]\n",
      " [1.         0.67063787]\n",
      " [1.         0.21038256]\n",
      " [1.         0.1289263 ]\n",
      " [1.         0.31542835]\n",
      " [1.         0.36371077]\n",
      " [1.         0.57019677]\n",
      " [1.         0.43860151]\n",
      " [1.         0.98837384]\n",
      " [1.         0.10204481]\n",
      " [1.         0.20887676]\n",
      " [1.         0.16130952]\n",
      " [1.         0.65310833]\n",
      " [1.         0.2532916 ]\n",
      " [1.         0.46631077]\n",
      " [1.         0.24442559]\n",
      " [1.         0.15896958]\n",
      " [1.         0.11037514]\n",
      " [1.         0.65632959]\n",
      " [1.         0.13818295]\n",
      " [1.         0.19658236]\n",
      " [1.         0.36872517]\n",
      " [1.         0.82099323]\n",
      " [1.         0.09710128]\n",
      " [1.         0.83794491]\n",
      " [1.         0.09609841]\n",
      " [1.         0.97645947]\n",
      " [1.         0.4686512 ]\n",
      " [1.         0.97676109]\n",
      " [1.         0.60484552]\n",
      " [1.         0.73926358]\n",
      " [1.         0.03918779]\n",
      " [1.         0.28280696]\n",
      " [1.         0.12019656]\n",
      " [1.         0.2961402 ]\n",
      " [1.         0.11872772]\n",
      " [1.         0.31798318]\n",
      " [1.         0.41426299]\n",
      " [1.         0.0641475 ]\n",
      " [1.         0.69247212]\n",
      " [1.         0.56660145]\n",
      " [1.         0.26538949]\n",
      " [1.         0.52324805]\n",
      " [1.         0.09394051]\n",
      " [1.         0.5759465 ]\n",
      " [1.         0.9292962 ]\n",
      " [1.         0.31856895]\n",
      " [1.         0.66741038]\n",
      " [1.         0.13179786]\n",
      " [1.         0.7163272 ]\n",
      " [1.         0.28940609]\n",
      " [1.         0.18319136]\n",
      " [1.         0.58651293]\n",
      " [1.         0.02010755]\n",
      " [1.         0.82894003]\n",
      " [1.         0.00469548]]\n"
     ]
    }
   ],
   "source": [
    "print(x_train)"
   ]
  },
  {
   "cell_type": "markdown",
   "metadata": {
    "id": "DYD8lFDsrYUW"
   },
   "source": [
    "### See the cost curve "
   ]
  },
  {
   "cell_type": "code",
   "execution_count": 27,
   "metadata": {
    "colab": {
     "base_uri": "https://localhost:8080/",
     "height": 279
    },
    "id": "IQzd_PfrrYUX",
    "outputId": "eed1d9c7-8b17-4af2-af24-a4b5c1a6188e"
   },
   "outputs": [
    {
     "data": {
      "image/png": "[encoded data removed]",
      "text/plain": [
       "<Figure size 640x480 with 1 Axes>"
      ]
     },
     "metadata": {},
     "output_type": "display_data"
    }
   ],
   "source": [
    "# plot costs\n",
    "plt.plot(lr.cost_)\n",
    "plt.xlabel('no of iterations')\n",
    "plt.ylabel('cost function')\n",
    "plt.show()"
   ]
  },
  {
   "cell_type": "markdown",
   "metadata": {
    "id": "sBjr9t86rYUY"
   },
   "source": [
    "## Scikit-learn implementation\n",
    "\n",
    "sckit-learn is a very powerful library for data-science. The complete code is given below"
   ]
  },
  {
   "cell_type": "code",
   "execution_count": 28,
   "metadata": {
    "colab": {
     "base_uri": "https://localhost:8080/",
     "height": 349
    },
    "id": "xj4OJZ2orYUY",
    "outputId": "baa39171-69cd-4ae7-d33b-bc0491e724aa"
   },
   "outputs": [
    {
     "name": "stdout",
     "output_type": "stream",
     "text": [
      "Slope: [[2.93655106]]\n",
      "Intercept: [2.55808002]\n",
      "Root mean squared error:  0.07623324582875007\n",
      "R2 score:  0.9038655568672764\n"
     ]
    },
    {
     "data": {
      "image/png": "[encoded data removed]",
      "text/plain": [
       "<Figure size 640x480 with 1 Axes>"
      ]
     },
     "metadata": {},
     "output_type": "display_data"
    }
   ],
   "source": [
    "# imports\n",
    "from sklearn.linear_model import LinearRegression\n",
    "from sklearn.metrics import mean_squared_error, r2_score\n",
    "\n",
    "# sckit-learn implementation\n",
    "\n",
    "# Model initialization\n",
    "regression_model = LinearRegression()\n",
    "# Fit the data(train the model)\n",
    "regression_model.fit(x, y)\n",
    "# Predict\n",
    "y_predicted = regression_model.predict(x)\n",
    "\n",
    "# model evaluation\n",
    "rmse = mean_squared_error(y, y_predicted)\n",
    "r2 = r2_score(y, y_predicted)\n",
    "\n",
    "# printing values\n",
    "print('Slope:' ,regression_model.coef_)\n",
    "print('Intercept:', regression_model.intercept_)\n",
    "print('Root mean squared error: ', rmse)\n",
    "print('R2 score: ', r2)\n",
    "\n",
    "# plotting values\n",
    "\n",
    "# data points\n",
    "plt.scatter(x, y, s=10)\n",
    "plt.xlabel('x')\n",
    "plt.ylabel('y')\n",
    "\n",
    "# predicted values\n",
    "plt.plot(x, y_predicted, color='r')\n",
    "plt.show()"
   ]
  },
  {
   "cell_type": "code",
   "execution_count": null,
   "metadata": {},
   "outputs": [],
   "source": []
  }
 ],
 "metadata": {
  "colab": {
   "provenance": []
  },
  "kernelspec": {
   "display_name": "Python 3 (ipykernel)",
   "language": "python",
   "name": "python3"
  },
  "language_info": {
   "codemirror_mode": {
    "name": "ipython",
    "version": 3
   },
   "file_extension": ".py",
   "mimetype": "text/x-python",
   "name": "python",
   "nbconvert_exporter": "python",
   "pygments_lexer": "ipython3",
   "version": "3.10.12"
  }
 },
 "nbformat": 4,
 "nbformat_minor": 1
}
