{
 "cells": [
  {
   "cell_type": "markdown",
   "metadata": {},
   "source": [
    "## n-Armed Bandits\n",
    "\n",
    "This sample introduces the n-armed bandit problem, the conflict between exploration and exploitation, and several ways how to balance this conflict."
   ]
  },
  {
   "cell_type": "code",
   "execution_count": 5,
   "metadata": {},
   "outputs": [],
   "source": [
    "import numpy as np\n",
    "import matplotlib.pyplot as plt\n",
    "%matplotlib inline"
   ]
  },
  {
   "cell_type": "markdown",
   "metadata": {},
   "source": [
    "### The Problem defintion:\n",
    "A typical slot machine is a device in which the player pulls a lever arm and receives rewards at some expected rate. Because the expected rate is typically negative, these machines are sometimes referred to as “one-armed bandits”. By analogy, a “multi-armed bandit” is a machine in which there are multiple lever arms to pull, each one of which may pay out at a different expected rate (= reward). \n",
    "\n",
    "The “multi-armed bandit” problem refers to the challenge of constructing a strategy for pulling the levers when one has no prior knowledge of the payout rate for any of the levers. Therefore, one must strike a balance between exploring each of the levers in order to determine their value, while exploiting one’s current knowledge in order to favor high paying levers."
   ]
  },
  {
   "cell_type": "markdown",
   "metadata": {},
   "source": [
    "### The Bandit Class\n",
    "Let's define the bandit:"
   ]
  },
  {
   "cell_type": "code",
   "execution_count": 6,
   "metadata": {},
   "outputs": [
    {
     "name": "stdout",
     "output_type": "stream",
     "text": [
      "[-0.36 -1.32 -1.68  1.64  0.38 -1.32 -0.24 -1.16 -0.79  2.33]\n"
     ]
    }
   ],
   "source": [
    "class Bandit:\n",
    "    def __init__(self, k):\n",
    "        # k: number of bandit arms\n",
    "        self.k = k\n",
    "        \n",
    "        # qstar: action values\n",
    "        self.qstar = np.random.normal(size=k).round(2)\n",
    "    \n",
    "    def action(self, a):\n",
    "        return np.random.normal(loc=self.qstar[a])\n",
    "    \n",
    "    def __str__(self):\n",
    "        return np.array_str(self.qstar)\n",
    "\n",
    "print(Bandit(10))"
   ]
  },
  {
   "cell_type": "markdown",
   "metadata": {},
   "source": [
    "The greed action selection algorithm"
   ]
  },
  {
   "cell_type": "code",
   "execution_count": 7,
   "metadata": {},
   "outputs": [],
   "source": [
    "def greedy_action_selection(k, numsteps):\n",
    "    # k: number of bandit arms\n",
    "    # numsteps: number of steps (repeated action selections)\n",
    "    \n",
    "    # Apossible[t]: list of possible actions at step t\n",
    "    Apossible = {}\n",
    "    \n",
    "    # A[t]: action selected at step t\n",
    "    A = np.zeros((numsteps,))\n",
    "    \n",
    "    # N[a,t]: the number of times action a was selected \n",
    "    #         in steps 0 through t-1\n",
    "    N = np.zeros((k,numsteps+1))\n",
    "    \n",
    "    # R[t]: reward at step t\n",
    "    R = np.zeros((numsteps,))\n",
    "    \n",
    "    # Q[a,t]: estimated value of action a at step t\n",
    "    Q = np.zeros((k,(numsteps+1)))\n",
    "\n",
    "    # Initialize bandit\n",
    "    bandit = Bandit(k)\n",
    "\n",
    "    for t in range(numsteps):\n",
    "\n",
    "        # Select greedy actions as possible actions\n",
    "        Apossible[t] = np.argwhere(Q[:,t] == np.amax(Q[:,t])).flatten()\n",
    "\n",
    "        # Select action randomly from possible actions\n",
    "        a = Apossible[t][np.random.randint(len(Apossible[t]))]\n",
    "\n",
    "        # Record action taken\n",
    "        A[t] = a\n",
    "\n",
    "        # Perform action (= sample reward)\n",
    "        R[t] = bandit.action(a)\n",
    "\n",
    "        # Update action counts\n",
    "        N[:,t+1] = N[:,t]\n",
    "        N[a,t+1] += 1\n",
    "\n",
    "        # Update action value estimates, incrementally\n",
    "        if N[a,t] > 0:\n",
    "            Q[:,t+1] = Q[:,t]\n",
    "            Q[a,t+1] = Q[a,t] + (R[t] - Q[a,t]) / N[a,t+1]\n",
    "        else:\n",
    "            Q[:,t+1] = Q[:,t]\n",
    "            Q[a,t+1] = R[t]\n",
    "\n",
    "        #Q[:,t] = np.around(Q:t], decimals=2)\n",
    "    return {'bandit': bandit, \n",
    "            'Apossible': Apossible, \n",
    "            'A': A, 'N' : N, 'R' : R, 'Q' : Q}"
   ]
  },
  {
   "cell_type": "markdown",
   "metadata": {},
   "source": [
    "### Single run"
   ]
  },
  {
   "cell_type": "code",
   "execution_count": 8,
   "metadata": {},
   "outputs": [
    {
     "name": "stdout",
     "output_type": "stream",
     "text": [
      "Bandit Q: [-2.01  0.19 -0.97 -0.4  -1.31  0.8  -0.57  0.35 -0.39  1.37]\n",
      "Action a: [6. 6. 6. 7. 8.]\n",
      "Reward r: [ 0.9542155   0.13929371 -1.45663792 -0.77906851 -0.99733289]\n",
      "Est    Q:\n",
      "[[ 0.          0.          0.          0.          0.          0.        ]\n",
      " [ 0.          0.          0.          0.          0.          0.        ]\n",
      " [ 0.          0.          0.          0.          0.          0.        ]\n",
      " [ 0.          0.          0.          0.          0.          0.        ]\n",
      " [ 0.          0.          0.          0.          0.          0.        ]\n",
      " [ 0.          0.          0.          0.          0.          0.        ]\n",
      " [ 0.          0.9542155   0.54675461 -0.1210429  -0.1210429  -0.1210429 ]\n",
      " [ 0.          0.          0.          0.         -0.77906851 -0.77906851]\n",
      " [ 0.          0.          0.          0.          0.         -0.99733289]\n",
      " [ 0.          0.          0.          0.          0.          0.        ]]\n"
     ]
    }
   ],
   "source": [
    "k = 10\n",
    "numsteps = 5\n",
    "\n",
    "bandit_task = greedy_action_selection(k, numsteps)\n",
    "\n",
    "print('Bandit Q: %s' % bandit_task['bandit'])\n",
    "print('Action a: %s' % bandit_task['A'])\n",
    "print('Reward r: %s' % bandit_task['R'])\n",
    "print('Est    Q:')\n",
    "print('%s' %bandit_task['Q'])"
   ]
  },
  {
   "cell_type": "markdown",
   "metadata": {},
   "source": [
    "### Conversation over 500 plays"
   ]
  },
  {
   "cell_type": "code",
   "execution_count": 9,
   "metadata": {},
   "outputs": [
    {
     "data": {
      "image/png": "[encoded data removed]",
      "text/plain": [
       "<Figure size 640x480 with 1 Axes>"
      ]
     },
     "metadata": {},
     "output_type": "display_data"
    }
   ],
   "source": [
    "k = 10\n",
    "numsteps = 500\n",
    "numtasks = 2000\n",
    "\n",
    "avgR = np.zeros((numsteps, ))\n",
    "for task in range(numtasks):\n",
    "    bandit_task = greedy_action_selection(k,numsteps)\n",
    "    avgR += bandit_task['R']\n",
    "avgR /= numtasks\n",
    "\n",
    "plt.plot(avgR) ;\n",
    "plt.ylabel('Average reward') ;\n",
    "plt.xlabel('Steps (number of plays)') ;\n",
    "plt.xlim(-5) ;"
   ]
  }
 ],
 "metadata": {
  "kernelspec": {
   "display_name": "Python 3 (ipykernel)",
   "language": "python",
   "name": "python3"
  },
  "language_info": {
   "codemirror_mode": {
    "name": "ipython",
    "version": 3
   },
   "file_extension": ".py",
   "mimetype": "text/x-python",
   "name": "python",
   "nbconvert_exporter": "python",
   "pygments_lexer": "ipython3",
   "version": "3.10.12"
  }
 },
 "nbformat": 4,
 "nbformat_minor": 2
}
