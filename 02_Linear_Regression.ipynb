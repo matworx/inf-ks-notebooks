{
 "cells": [
  {
   "cell_type": "markdown",
   "metadata": {
    "id": "XQO76blmrYUE"
   },
   "source": [
    "# Linear Regression\n",
    "\n",
    "With linear regressions we are trying to find the linear correlation between X and Y!\n",
    "\n",
    "First, let us take a trip back to middle school, where we brush up on the definition of a simple straight line: y = mx + b, where m is the slope and b is the y-intercept. This would be the equation used to discover y, and we could rearrange it instead to discover x using basic algebraic principles: x = (y-b) / m.\n",
    "Alright, so, our objective is to find the best-fit line. Not just a good-fit line, the best one! The definition of this line will be y = mx + b. The y is the answer (our other coordinate, or it could even be our \"feature\"), so we'll still be needing m (the slope) and b (y-intercept), since x could be any possible point along the x-axis, so it is already known.\n",
    "\n",
    "Let's see what it means:"
   ]
  },
  {
   "cell_type": "code",
   "execution_count": 1,
   "metadata": {
    "colab": {
     "base_uri": "https://localhost:8080/",
     "height": 279
    },
    "executionInfo": {
     "elapsed": 2251,
     "status": "ok",
     "timestamp": 1617028478141,
     "user": {
      "displayName": "Marcel",
      "photoUrl": "https://lh3.googleusercontent.com/a-/AOh14GgnqgvB1-dXF9xtSsw7hpY5o7BOISI-Okj9toVN=s64",
      "userId": "00210246741827932529"
     },
     "user_tz": -120
    },
    "id": "sOzjob6orYUO",
    "outputId": "3a522370-6e5e-44d1-eea0-eb8eec9e6353"
   },
   "outputs": [
    {
     "data": {
      "image/png": "[encoded data removed]",
      "text/plain": [
       "<Figure size 640x480 with 1 Axes>"
      ]
     },
     "metadata": {},
     "output_type": "display_data"
    }
   ],
   "source": [
    "# imports\n",
    "import numpy as np\n",
    "import matplotlib.pyplot as plt\n",
    "\n",
    "# generate random data-set\n",
    "np.random.seed(0)\n",
    "x = np.random.rand(100, 1)\n",
    "y = 2 + 3 * x + np.random.rand(100, 1)\n",
    "\n",
    "# plot\n",
    "plt.scatter(x,y,s=10)\n",
    "plt.xlabel('x')\n",
    "plt.ylabel('y')\n",
    "plt.show()"
   ]
  },
  {
   "cell_type": "code",
   "execution_count": 2,
   "metadata": {
    "colab": {
     "base_uri": "https://localhost:8080/"
    },
    "executionInfo": {
     "elapsed": 2245,
     "status": "ok",
     "timestamp": 1617028478142,
     "user": {
      "displayName": "Marcel",
      "photoUrl": "https://lh3.googleusercontent.com/a-/AOh14GgnqgvB1-dXF9xtSsw7hpY5o7BOISI-Okj9toVN=s64",
      "userId": "00210246741827932529"
     },
     "user_tz": -120
    },
    "id": "y49A3gncrYUR",
    "outputId": "58900201-de59-4380-f644-51a72ef92c15"
   },
   "outputs": [
    {
     "data": {
      "text/plain": [
       "(100, 1)"
      ]
     },
     "execution_count": 2,
     "metadata": {},
     "output_type": "execute_result"
    }
   ],
   "source": [
    "np.shape(y)"
   ]
  },
  {
   "cell_type": "markdown",
   "metadata": {
    "id": "t4Pv1QWsrYUT"
   },
   "source": [
    "## Implementing Linear Regression from scratch\n",
    "\n",
    "The complete implementation of linear regression with gradient descent is given below."
   ]
  },
  {
   "cell_type": "code",
   "execution_count": null,
   "metadata": {
    "id": "oh9GvPWqrYUU"
   },
   "outputs": [],
   "source": [
    "# imports\n",
    "import numpy as np\n",
    "\n",
    "\n",
    "class LinearRegressionUsingGD:\n",
    "    \"\"\"Linear Regression Using Gradient Descent.\n",
    "    \n",
    "    Parameters\n",
    "    ----------\n",
    "    eta : float \n",
    "        Learning rate\n",
    "    n_iterations : int\n",
    "        No of passes over the training set\n",
    "    \n",
    "    Attributes\n",
    "    ----------\n",
    "    w : weights/ after fitting the model\n",
    "    cost : total error of the model after each iteration\n",
    "    \"\"\"\n",
    "\n",
    "    def fit(self, x, y):\n",
    "        \"\"\"Fit the training data\n",
    "        Parameters\n",
    "        ----------\n",
    "        x : array-like, shape = [n_samples, n_features]\n",
    "            Training samples\n",
    "        y : array-like, shape = [n_samples, n_target_values]\n",
    "            Target values\n",
    "        Returns\n",
    "        -------\n",
    "        self : object\n",
    "        \"\"\"\n",
    "\n",
    "\n",
    "    def predict(self, x):\n",
    "        \"\"\" Predicts the value after the model has been trained.\n",
    "        Parameters\n",
    "        ----------\n",
    "        x : array-like, shape = [n_samples, n_features]\n",
    "            Test samples\n",
    "        Returns\n",
    "        -------\n",
    "        Predicted value\n",
    "        \"\"\"\n",
    "        return np.dot(x, self.w)"
   ]
  },
  {
   "cell_type": "code",
   "execution_count": null,
   "metadata": {
    "colab": {
     "base_uri": "https://localhost:8080/"
    },
    "executionInfo": {
     "elapsed": 2241,
     "status": "ok",
     "timestamp": 1617028478144,
     "user": {
      "displayName": "Marcel",
      "photoUrl": "https://lh3.googleusercontent.com/a-/AOh14GgnqgvB1-dXF9xtSsw7hpY5o7BOISI-Okj9toVN=s64",
      "userId": "00210246741827932529"
     },
     "user_tz": -120
    },
    "id": "c7K-oKihrYUV",
    "outputId": "c55334d0-f0a5-45ff-a98b-1d2f989eb782"
   },
   "outputs": [
    {
     "data": {
      "text/plain": [
       "<__main__.LinearRegressionUsingGD at 0x7f3a17152c10>"
      ]
     },
     "execution_count": 4,
     "metadata": {
      "tags": []
     },
     "output_type": "execute_result"
    }
   ],
   "source": [
    "# transform the feature vectors to include the bias term\n",
    "# adding 1 to all the instances of the training set.\n",
    "m = x.shape[0]\n",
    "x_train = np.c_[np.ones((m, 1)), x]\n",
    "\n",
    "lr = LinearRegressionUsingGD()\n",
    "lr.fit(x_train,y)"
   ]
  },
  {
   "cell_type": "code",
   "execution_count": null,
   "metadata": {
    "colab": {
     "base_uri": "https://localhost:8080/"
    },
    "executionInfo": {
     "elapsed": 2240,
     "status": "ok",
     "timestamp": 1617028478147,
     "user": {
      "displayName": "Marcel",
      "photoUrl": "https://lh3.googleusercontent.com/a-/AOh14GgnqgvB1-dXF9xtSsw7hpY5o7BOISI-Okj9toVN=s64",
      "userId": "00210246741827932529"
     },
     "user_tz": -120
    },
    "id": "td6jw1DcrYUV",
    "outputId": "d8a496c2-0e06-462d-d0e8-7a66a7f72f88"
   },
   "outputs": [
    {
     "name": "stdout",
     "output_type": "stream",
     "text": [
      "Intercept:[2.58109277]\n",
      "Slope    :[2.89114079]\n"
     ]
    }
   ],
   "source": [
    "print(\"Intercept:\" + str(lr.w[0]))\n",
    "print(\"Slope    :\" + str(lr.w[1]))"
   ]
  },
  {
   "cell_type": "markdown",
   "metadata": {
    "id": "DYD8lFDsrYUW"
   },
   "source": [
    "### See the cost curve "
   ]
  },
  {
   "cell_type": "code",
   "execution_count": null,
   "metadata": {
    "colab": {
     "base_uri": "https://localhost:8080/",
     "height": 279
    },
    "executionInfo": {
     "elapsed": 2233,
     "status": "ok",
     "timestamp": 1617028478148,
     "user": {
      "displayName": "Marcel",
      "photoUrl": "https://lh3.googleusercontent.com/a-/AOh14GgnqgvB1-dXF9xtSsw7hpY5o7BOISI-Okj9toVN=s64",
      "userId": "00210246741827932529"
     },
     "user_tz": -120
    },
    "id": "IQzd_PfrrYUX",
    "outputId": "eed1d9c7-8b17-4af2-af24-a4b5c1a6188e"
   },
   "outputs": [
    {
     "data": {
      "image/png": "[encoded data removed]",
      "text/plain": [
       "<Figure size 432x288 with 1 Axes>"
      ]
     },
     "metadata": {
      "needs_background": "light",
      "tags": []
     },
     "output_type": "display_data"
    }
   ],
   "source": [
    "# plot costs\n",
    "plt.plot(lr.cost)\n",
    "plt.xlabel('no of iterations')\n",
    "plt.ylabel('cost function')\n",
    "plt.show()"
   ]
  },
  {
   "cell_type": "markdown",
   "metadata": {
    "id": "sBjr9t86rYUY"
   },
   "source": [
    "## Scikit-learn implementation\n",
    "\n",
    "sckit-learn is a very powerful library for data-science. The complete code is given below"
   ]
  },
  {
   "cell_type": "code",
   "execution_count": null,
   "metadata": {
    "colab": {
     "base_uri": "https://localhost:8080/",
     "height": 349
    },
    "executionInfo": {
     "elapsed": 3697,
     "status": "ok",
     "timestamp": 1617028479624,
     "user": {
      "displayName": "Marcel",
      "photoUrl": "https://lh3.googleusercontent.com/a-/AOh14GgnqgvB1-dXF9xtSsw7hpY5o7BOISI-Okj9toVN=s64",
      "userId": "00210246741827932529"
     },
     "user_tz": -120
    },
    "id": "xj4OJZ2orYUY",
    "outputId": "baa39171-69cd-4ae7-d33b-bc0491e724aa"
   },
   "outputs": [
    {
     "name": "stdout",
     "output_type": "stream",
     "text": [
      "Slope: [[2.93655106]]\n",
      "Intercept: [2.55808002]\n",
      "Root mean squared error:  0.07623324582875007\n",
      "R2 score:  0.9038655568672764\n"
     ]
    },
    {
     "data": {
      "image/png": "[encoded data removed]",
      "text/plain": [
       "<Figure size 432x288 with 1 Axes>"
      ]
     },
     "metadata": {
      "needs_background": "light",
      "tags": []
     },
     "output_type": "display_data"
    }
   ],
   "source": [
    "# imports\n",
    "from sklearn.linear_model import LinearRegression\n",
    "from sklearn.metrics import mean_squared_error, r2_score\n",
    "\n",
    "# sckit-learn implementation\n",
    "\n",
    "# Model initialization\n",
    "regression_model = LinearRegression()\n",
    "# Fit the data(train the model)\n",
    "regression_model.fit(x, y)\n",
    "# Predict\n",
    "y_predicted = regression_model.predict(x)\n",
    "\n",
    "# model evaluation\n",
    "rmse = mean_squared_error(y, y_predicted)\n",
    "r2 = r2_score(y, y_predicted)\n",
    "\n",
    "# printing values\n",
    "print('Slope:' ,regression_model.coef_)\n",
    "print('Intercept:', regression_model.intercept_)\n",
    "print('Root mean squared error: ', rmse)\n",
    "print('R2 score: ', r2)\n",
    "\n",
    "# plotting values\n",
    "\n",
    "# data points\n",
    "plt.scatter(x, y, s=10)\n",
    "plt.xlabel('x')\n",
    "plt.ylabel('y')\n",
    "\n",
    "# predicted values\n",
    "plt.plot(x, y_predicted, color='r')\n",
    "plt.show()"
   ]
  }
 ],
 "metadata": {
  "colab": {
   "collapsed_sections": [],
   "name": "Linear_Regression.ipynb",
   "provenance": []
  },
  "kernelspec": {
   "display_name": "Python 3 (ipykernel)",
   "language": "python",
   "name": "python3"
  },
  "language_info": {
   "codemirror_mode": {
    "name": "ipython",
    "version": 3
   },
   "file_extension": ".py",
   "mimetype": "text/x-python",
   "name": "python",
   "nbconvert_exporter": "python",
   "pygments_lexer": "ipython3",
   "version": "3.10.12"
  }
 },
 "nbformat": 4,
 "nbformat_minor": 1
}
