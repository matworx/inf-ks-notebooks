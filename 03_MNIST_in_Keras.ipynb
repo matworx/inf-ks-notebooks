{
 "cells": [
  {
   "cell_type": "code",
   "execution_count": 1,
   "metadata": {
    "collapsed": true,
    "id": "oB_aEmV9mhz-"
   },
   "outputs": [],
   "source": [
    "%matplotlib inline"
   ]
  },
  {
   "cell_type": "markdown",
   "metadata": {
    "id": "rnYbNdFUmh0F"
   },
   "source": [
    "# Introduction to Deep Learning with Keras and TensorFlow\n",
    "\n",
    "**Daniel Moser (UT Southwestern Medical Center)**\n",
    "\n",
    "**Resources: [Xavier Snelgrove](https://github.com/wxs/keras-mnist-tutorial), [Yash Katariya](https://github.com/yashk2810/MNIST-Keras)**"
   ]
  },
  {
   "cell_type": "markdown",
   "metadata": {
    "id": "_nKqmMLJmh0F"
   },
   "source": [
    "To help you understand the fundamentals of deep learning, this demo will walk through the basic steps of building two toy models for classifying handwritten numbers with accuracies surpassing 95%. The first model will be a basic fully-connected neural network, and the second model will be a deeper network that introduces the concepts of convolution and pooling."
   ]
  },
  {
   "cell_type": "markdown",
   "metadata": {
    "id": "2HgxG2tMmh0G"
   },
   "source": [
    "## The Task for the AI\n",
    "\n",
    "Our goal is to construct and train an artificial neural network on thousands of images of handwritten digits so that it may successfully identify others when presented. The data that will be incorporated is the MNIST database which contains 60,000 images for training and 10,000 test images. We will use the Keras Python API with TensorFlow as the backend."
   ]
  },
  {
   "cell_type": "markdown",
   "metadata": {
    "id": "iCu5Qvk7mh0H"
   },
   "source": [
    "<img src=\"https://github.com/AviatorMoser/keras-mnist-tutorial/blob/master/mnist.png?raw=1\" >"
   ]
  },
  {
   "cell_type": "markdown",
   "metadata": {
    "id": "3SgjZ803mh0H"
   },
   "source": [
    "## Prerequisite Python Modules\n",
    "\n",
    "First, some software needs to be loaded into the Python environment."
   ]
  },
  {
   "cell_type": "code",
   "execution_count": 2,
   "metadata": {
    "id": "M_v05wi4mh0I"
   },
   "outputs": [],
   "source": [
    "import numpy as np                   # advanced math library\n",
    "import matplotlib.pyplot as plt      # MATLAB like plotting routines\n",
    "import random                        # for generating random numbers\n",
    "\n",
    "from keras.datasets import mnist     # MNIST dataset is included in Keras\n",
    "from keras.models import Sequential  # Model type to be used\n",
    "\n",
    "from keras.layers.core import Dense, Dropout, Activation # Types of layers to be used in our model\n",
    "from keras.utils import np_utils                         # NumPy related tools"
   ]
  },
  {
   "cell_type": "markdown",
   "metadata": {
    "id": "ROf0yiwjmh0I"
   },
   "source": [
    "## Loading Training Data\n",
    "\n",
    "The MNIST dataset is conveniently bundled within Keras, and we can easily analyze some of its features in Python."
   ]
  },
  {
   "cell_type": "code",
   "execution_count": 3,
   "metadata": {
    "colab": {
     "base_uri": "https://localhost:8080/"
    },
    "id": "iF1jHUz7mh0J",
    "outputId": "de3583f2-5b00-4c16-e75e-887b109b2be1"
   },
   "outputs": [
    {
     "name": "stdout",
     "output_type": "stream",
     "text": [
      "Downloading data from https://storage.googleapis.com/tensorflow/tf-keras-datasets/mnist.npz\n",
      "11493376/11490434 [==============================] - 0s 0us/step\n",
      "X_train shape (60000, 28, 28)\n",
      "y_train shape (60000,)\n",
      "X_test shape (10000, 28, 28)\n",
      "y_test shape (10000,)\n"
     ]
    }
   ],
   "source": [
    "# The MNIST data is split between 60,000 28 x 28 pixel training images and 10,000 28 x 28 pixel images\n",
    "(X_train, y_train), (X_test, y_test) = mnist.load_data()\n",
    "\n",
    "print(\"X_train shape\", X_train.shape)\n",
    "print(\"y_train shape\", y_train.shape)\n",
    "print(\"X_test shape\", X_test.shape)\n",
    "print(\"y_test shape\", y_test.shape)"
   ]
  },
  {
   "cell_type": "markdown",
   "metadata": {
    "id": "CgZO5iMomh0J"
   },
   "source": [
    "Using matplotlib, we can plot some sample images from the training set directly into this Jupyter Notebook."
   ]
  },
  {
   "cell_type": "code",
   "execution_count": 4,
   "metadata": {
    "colab": {
     "base_uri": "https://localhost:8080/",
     "height": 657
    },
    "id": "7n1W6qbomh0K",
    "outputId": "9fff1115-b842-4cca-d585-af563358d764"
   },
   "outputs": [
    {
     "data": {
      "image/png": "[encoded data removed]",
      "text/plain": [
       "<Figure size 648x648 with 9 Axes>"
      ]
     },
     "metadata": {
      "needs_background": "light",
      "tags": []
     },
     "output_type": "display_data"
    }
   ],
   "source": [
    "plt.rcParams['figure.figsize'] = (9,9) # Make the figures a bit bigger\n",
    "\n",
    "for i in range(9):\n",
    "    plt.subplot(3,3,i+1)\n",
    "    num = random.randint(0, len(X_train))\n",
    "    plt.imshow(X_train[num], cmap='gray', interpolation='none')\n",
    "    plt.title(\"Class {}\".format(y_train[num]))\n",
    "    \n",
    "plt.tight_layout()"
   ]
  },
  {
   "cell_type": "markdown",
   "metadata": {
    "id": "65BP2_BHmh0L"
   },
   "source": [
    "Let's examine a single digit a little closer, and print out the array representing the last digit."
   ]
  },
  {
   "cell_type": "code",
   "execution_count": 5,
   "metadata": {
    "colab": {
     "base_uri": "https://localhost:8080/"
    },
    "id": "sSJc3y2Tmh0L",
    "outputId": "60488558-c452-4b7f-c0f7-e400be57edc6"
   },
   "outputs": [
    {
     "name": "stdout",
     "output_type": "stream",
     "text": [
      "0  0  0  0  0    0    0    0    0    0    0    0    0    0    0    0    0    0    0    0    0    0    0    0    0  0  0  0  \n",
      "0  0  0  0  0    0    0    0    0    0    0    0    0    0    0    0    0    0    0    0    0    0    0    0    0  0  0  0  \n",
      "0  0  0  0  0    0    0    0    0    0    0    0    0    0    0    0    0    0    0    0    0    0    0    0    0  0  0  0  \n",
      "0  0  0  0  0    0    0    0    0    0    0    0    0    0    0    0    0    0    0    0    0    0    0    0    0  0  0  0  \n",
      "0  0  0  0  0    0    0    0    0    0    0    0   29  170  255  255  141    0    0    0    0    0    0    0    0  0  0  0  \n",
      "0  0  0  0  0    0    0    0    0    0   29  198  255  255  255  226  255   86    0    0    0    0    0    0    0  0  0  0  \n",
      "0  0  0  0  0    0    0    0    0  141  255  255  170   29    0   86  255  255  141    0    0    0    0    0    0  0  0  0  \n",
      "0  0  0  0  0    0    0   29  226  255  198   57    0    0    0    0  226  255  255  226  114    0    0    0    0  0  0  0  \n",
      "0  0  0  0  0    0   29  255  255  114    0    0    0    0    0    0  141  170  114  255  255  141    0    0    0  0  0  0  \n",
      "0  0  0  0  0    0  226  255  170    0    0    0    0    0    0    0   29   57    0    0  141  255  226    0    0  0  0  0  \n",
      "0  0  0  0  0   57  255  170    0    0    0    0    0    0    0    0    0    0    0    0    0  114  255  198    0  0  0  0  \n",
      "0  0  0  0  0  226  255    0    0    0    0    0    0    0    0    0    0    0    0    0    0    0  170  255   57  0  0  0  \n",
      "0  0  0  0  0  255  226    0    0    0    0    0    0    0    0    0    0    0    0    0    0    0    0  255  170  0  0  0  \n",
      "0  0  0  0  0  255  170    0    0    0    0    0    0    0    0    0    0    0    0    0    0    0    0  114  198  0  0  0  \n",
      "0  0  0  0  0  255  226    0    0    0    0    0    0    0    0    0    0    0    0    0    0    0    0   86  255  0  0  0  \n",
      "0  0  0  0  0  198  255    0    0    0    0    0    0    0    0    0    0    0    0    0    0    0    0   86  255  0  0  0  \n",
      "0  0  0  0  0  114  255   57    0    0    0    0    0    0    0    0    0    0    0    0    0    0    0   86  255  0  0  0  \n",
      "0  0  0  0  0   29  255  226    0    0    0    0    0    0    0    0    0    0    0    0    0    0    0  141  255  0  0  0  \n",
      "0  0  0  0  0    0  170  255  170    0    0    0    0    0    0    0    0    0    0    0    0    0    0  226  198  0  0  0  \n",
      "0  0  0  0  0    0   29  226  255  170    0    0    0    0    0    0    0    0    0    0    0    0   29  255  114  0  0  0  \n",
      "0  0  0  0  0    0    0   29  226  255  141    0    0    0    0    0    0    0    0    0    0   57  226  226    0  0  0  0  \n",
      "0  0  0  0  0    0    0    0    0  141  255  255  170   86    0    0    0    0   29   86  226  255  226   29    0  0  0  0  \n",
      "0  0  0  0  0    0    0    0    0    0   86  198  255  255  255  255  255  255  255  255  255  141   29    0    0  0  0  0  \n",
      "0  0  0  0  0    0    0    0    0    0    0    0   29  114  170  170  170  170  170   86    0    0    0    0    0  0  0  0  \n",
      "0  0  0  0  0    0    0    0    0    0    0    0    0    0    0    0    0    0    0    0    0    0    0    0    0  0  0  0  \n",
      "0  0  0  0  0    0    0    0    0    0    0    0    0    0    0    0    0    0    0    0    0    0    0    0    0  0  0  0  \n",
      "0  0  0  0  0    0    0    0    0    0    0    0    0    0    0    0    0    0    0    0    0    0    0    0    0  0  0  0  \n",
      "0  0  0  0  0    0    0    0    0    0    0    0    0    0    0    0    0    0    0    0    0    0    0    0    0  0  0  0  \n"
     ]
    }
   ],
   "source": [
    "# just a little function for pretty printing a matrix\n",
    "def matprint(mat, fmt=\"g\"):\n",
    "    col_maxes = [max([len((\"{:\"+fmt+\"}\").format(x)) for x in col]) for col in mat.T]\n",
    "    for x in mat:\n",
    "        for i, y in enumerate(x):\n",
    "            print((\"{:\"+str(col_maxes[i])+fmt+\"}\").format(y), end=\"  \")\n",
    "        print(\"\")\n",
    "\n",
    "# now print!        \n",
    "matprint(X_train[num])"
   ]
  },
  {
   "cell_type": "markdown",
   "metadata": {
    "id": "kk8MsdM4mh0L"
   },
   "source": [
    "Each pixel is an 8-bit integer from 0-255. 0 is full black, while 255 is full white. This what we call a single-channel pixel. It's called monochrome.\n",
    "\n",
    "*Fun-fact! Your computer screen has three channels for each pixel: red, green, blue. Each of these channels also likely takes an 8-bit integer. 3 channels -- 24 bits total -- 16,777,216 possible colors!*"
   ]
  },
  {
   "cell_type": "markdown",
   "metadata": {
    "id": "QuayUC1lmh0M"
   },
   "source": [
    "## Formatting the input data layer\n",
    "\n",
    "Instead of a 28 x 28 matrix, we build our network to accept a 784-length vector.\n",
    "\n",
    "Each image needs to be then reshaped (or flattened) into a vector. We'll also normalize the inputs to be in the range [0-1] rather than [0-255]. Normalizing inputs is generally recommended, so that any additional dimensions (for other network architectures) are of the same scale."
   ]
  },
  {
   "cell_type": "markdown",
   "metadata": {
    "id": "age-dG4ymh0M"
   },
   "source": [
    "<img src='https://github.com/AviatorMoser/keras-mnist-tutorial/blob/master/flatten.png?raw=1' >"
   ]
  },
  {
   "cell_type": "code",
   "execution_count": 6,
   "metadata": {
    "colab": {
     "base_uri": "https://localhost:8080/"
    },
    "id": "iQwcopaEmh0M",
    "outputId": "ef250bec-296e-4f32-bb6b-4d80d1dd0422"
   },
   "outputs": [
    {
     "name": "stdout",
     "output_type": "stream",
     "text": [
      "Training matrix shape (60000, 784)\n",
      "Testing matrix shape (10000, 784)\n"
     ]
    }
   ],
   "source": [
    "X_train = X_train.reshape(60000, 784) # reshape 60,000 28 x 28 matrices into 60,000 784-length vectors.\n",
    "X_test = X_test.reshape(10000, 784)   # reshape 10,000 28 x 28 matrices into 10,000 784-length vectors.\n",
    "\n",
    "X_train = X_train.astype('float32')   # change integers to 32-bit floating point numbers\n",
    "X_test = X_test.astype('float32')\n",
    "\n",
    "X_train /= 255                        # normalize each value for each pixel for the entire vector for each input\n",
    "X_test /= 255\n",
    "\n",
    "print(\"Training matrix shape\", X_train.shape)\n",
    "print(\"Testing matrix shape\", X_test.shape)"
   ]
  },
  {
   "cell_type": "markdown",
   "metadata": {
    "id": "gXMWzIwvmh0M"
   },
   "source": [
    "We then modify our classes (unique digits) to be in the one-hot format, i.e.\n",
    "\n",
    "```\n",
    "0 -> [1, 0, 0, 0, 0, 0, 0, 0, 0]\n",
    "1 -> [0, 1, 0, 0, 0, 0, 0, 0, 0]\n",
    "2 -> [0, 0, 1, 0, 0, 0, 0, 0, 0]\n",
    "etc.\n",
    "```\n",
    "\n",
    "If the final output of our network is very close to one of these classes, then it is most likely that class. For example, if the final output is:\n",
    "\n",
    "```\n",
    "[0, 0.94, 0, 0, 0, 0, 0.06, 0, 0]\n",
    "```\n",
    "then it is most probable that the image is that of the digit `1`."
   ]
  },
  {
   "cell_type": "code",
   "execution_count": 7,
   "metadata": {
    "collapsed": true,
    "id": "uiq-YHC1mh0M"
   },
   "outputs": [],
   "source": [
    "nb_classes = 10 # number of unique digits\n",
    "\n",
    "Y_train = np_utils.to_categorical(y_train, nb_classes)\n",
    "Y_test = np_utils.to_categorical(y_test, nb_classes)"
   ]
  },
  {
   "cell_type": "markdown",
   "metadata": {
    "id": "xT7RdhYOmh0N"
   },
   "source": [
    "# Building a 3-layer fully connected network (FCN)\n",
    "\n",
    "<img src=\"https://github.com/AviatorMoser/keras-mnist-tutorial/blob/master/figure.png?raw=1\" />"
   ]
  },
  {
   "cell_type": "code",
   "execution_count": 8,
   "metadata": {
    "collapsed": true,
    "id": "tQdmMQjSmh0N"
   },
   "outputs": [],
   "source": [
    "# The Sequential model is a linear stack of layers and is very common.\n",
    "\n",
    "model = Sequential()"
   ]
  },
  {
   "cell_type": "markdown",
   "metadata": {
    "id": "WNaS7Xzmmh0N"
   },
   "source": [
    "## The first hidden layer"
   ]
  },
  {
   "cell_type": "code",
   "execution_count": 9,
   "metadata": {
    "collapsed": true,
    "id": "e0E73Kiumh0N"
   },
   "outputs": [],
   "source": [
    "# The first hidden layer is a set of 512 nodes (artificial neurons).\n",
    "# Each node will receive an element from each input vector and apply some weight and bias to it.\n",
    "\n",
    "model.add(Dense(512, input_shape=(784,))) #(784,) is not a typo -- that represents a 784 length vector!"
   ]
  },
  {
   "cell_type": "code",
   "execution_count": 10,
   "metadata": {
    "collapsed": true,
    "id": "QuSjF6U4mh0O"
   },
   "outputs": [],
   "source": [
    "# An \"activation\" is a non-linear function applied to the output of the layer above.\n",
    "# It checks the new value of the node, and decides whether that artifical neuron has fired.\n",
    "# The Rectified Linear Unit (ReLU) converts all negative inputs to nodes in the next layer to be zero.\n",
    "# Those inputs are then not considered to be fired.\n",
    "# Positive values of a node are unchanged.\n",
    "\n",
    "model.add(Activation('relu'))"
   ]
  },
  {
   "cell_type": "markdown",
   "metadata": {
    "id": "OCa6MSGUmh0O"
   },
   "source": [
    "$$f(x) = max (0,x)$$\n",
    "<img src = 'relu.jpg' >"
   ]
  },
  {
   "cell_type": "code",
   "execution_count": 11,
   "metadata": {
    "collapsed": true,
    "id": "r6k65Qsumh0O"
   },
   "outputs": [],
   "source": [
    "# Dropout zeroes a selection of random outputs (i.e., disables their activation)\n",
    "# Dropout helps protect the model from memorizing or \"overfitting\" the training data.\n",
    "model.add(Dropout(0.2))"
   ]
  },
  {
   "cell_type": "markdown",
   "metadata": {
    "id": "t96KDP48mh0O"
   },
   "source": [
    "## Adding the second hidden layer"
   ]
  },
  {
   "cell_type": "code",
   "execution_count": 12,
   "metadata": {
    "collapsed": true,
    "id": "KCUbYXN2mh0P"
   },
   "outputs": [],
   "source": [
    "# The second hidden layer appears identical to our first layer.\n",
    "# However, instead of each of the 512-node receiving 784-inputs from the input image data,\n",
    "# they receive 512 inputs from the output of the first 512-node layer.\n",
    "\n",
    "model.add(Dense(512))\n",
    "model.add(Activation('relu'))\n",
    "model.add(Dropout(0.2))"
   ]
  },
  {
   "cell_type": "markdown",
   "metadata": {
    "id": "IM9LwOUAmh0P"
   },
   "source": [
    "## The Final Output Layer"
   ]
  },
  {
   "cell_type": "code",
   "execution_count": 13,
   "metadata": {
    "collapsed": true,
    "id": "xzgkRfG_mh0Q"
   },
   "outputs": [],
   "source": [
    "# The final layer of 10 neurons in fully-connected to the previous 512-node layer.\n",
    "# The final layer of a FCN should be equal to the number of desired classes (10 in this case).\n",
    "model.add(Dense(10))"
   ]
  },
  {
   "cell_type": "code",
   "execution_count": 14,
   "metadata": {
    "collapsed": true,
    "id": "v0CG6-tpmh0Q"
   },
   "outputs": [],
   "source": [
    "# The \"softmax\" activation represents a probability distribution over K different possible outcomes.\n",
    "# Its values are all non-negative and sum to 1.\n",
    "\n",
    "model.add(Activation('softmax'))"
   ]
  },
  {
   "cell_type": "code",
   "execution_count": 15,
   "metadata": {
    "colab": {
     "base_uri": "https://localhost:8080/"
    },
    "id": "ZA3Wo4ykmh0Q",
    "outputId": "b807bf6f-af34-4904-973f-b49457365323"
   },
   "outputs": [
    {
     "name": "stdout",
     "output_type": "stream",
     "text": [
      "Model: \"sequential\"\n",
      "_________________________________________________________________\n",
      "Layer (type)                 Output Shape              Param #   \n",
      "=================================================================\n",
      "dense (Dense)                (None, 512)               401920    \n",
      "_________________________________________________________________\n",
      "activation (Activation)      (None, 512)               0         \n",
      "_________________________________________________________________\n",
      "dropout (Dropout)            (None, 512)               0         \n",
      "_________________________________________________________________\n",
      "dense_1 (Dense)              (None, 512)               262656    \n",
      "_________________________________________________________________\n",
      "activation_1 (Activation)    (None, 512)               0         \n",
      "_________________________________________________________________\n",
      "dropout_1 (Dropout)          (None, 512)               0         \n",
      "_________________________________________________________________\n",
      "dense_2 (Dense)              (None, 10)                5130      \n",
      "_________________________________________________________________\n",
      "activation_2 (Activation)    (None, 10)                0         \n",
      "=================================================================\n",
      "Total params: 669,706\n",
      "Trainable params: 669,706\n",
      "Non-trainable params: 0\n",
      "_________________________________________________________________\n"
     ]
    }
   ],
   "source": [
    "# Summarize the built model\n",
    "\n",
    "model.summary()"
   ]
  },
  {
   "cell_type": "markdown",
   "metadata": {
    "id": "YqkTlcRSmh0Q"
   },
   "source": [
    "## Compiling the model\n",
    "\n",
    "Keras is built on top of Theano and TensorFlow. Both packages allow you to define a *computation graph* in Python, which then compiles and runs efficiently on the CPU or GPU without the overhead of the Python interpreter.\n",
    "\n",
    "When compiing a model, Keras asks you to specify your **loss function** and your **optimizer**. The loss function we'll use here is called *categorical cross-entropy*, and is a loss function well-suited to comparing two probability distributions.\n",
    "\n",
    "Our predictions are probability distributions across the ten different digits (e.g. \"we're 80% confident this image is a 3, 10% sure it's an 8, 5% it's a 2, etc.\"), and the target is a probability distribution with 100% for the correct category, and 0 for everything else. The cross-entropy is a measure of how different your predicted distribution is from the target distribution. [More detail at Wikipedia](https://en.wikipedia.org/wiki/Cross_entropy)\n",
    "\n",
    "The optimizer helps determine how quickly the model learns through **gradient descent**. The rate at which descends a gradient is called the **learning rate**."
   ]
  },
  {
   "cell_type": "markdown",
   "metadata": {
    "id": "0igGobJomh0Q"
   },
   "source": [
    "<img src = \"gradient_descent.png\" >"
   ]
  },
  {
   "cell_type": "markdown",
   "metadata": {
    "id": "ooPYuWvkmh0Q"
   },
   "source": [
    "<img src = \"learning_rate.png\" >"
   ]
  },
  {
   "cell_type": "markdown",
   "metadata": {
    "id": "q9HKnFf7mh0R"
   },
   "source": [
    "So are smaller learning rates better? Not quite! It's important for an optimizer not to get stuck in local minima while neglecting the global minimum of the loss function. Sometimes that means trying a larger learning rate to jump out of a local minimum."
   ]
  },
  {
   "cell_type": "markdown",
   "metadata": {
    "id": "NDqyEJcYmh0R"
   },
   "source": [
    "<img src = 'complicated_loss_function.png' >"
   ]
  },
  {
   "cell_type": "code",
   "execution_count": 16,
   "metadata": {
    "collapsed": true,
    "id": "_f0xyxbRmh0R"
   },
   "outputs": [],
   "source": [
    "# Let's use the Adam optimizer for learning\n",
    "model.compile(loss='categorical_crossentropy', optimizer='adam', metrics=['accuracy'])"
   ]
  },
  {
   "cell_type": "markdown",
   "metadata": {
    "id": "0vfdz2WYmh0R"
   },
   "source": [
    "## Train the model!\n",
    "This is the fun part! "
   ]
  },
  {
   "cell_type": "markdown",
   "metadata": {
    "id": "ygFmzyeRmh0R"
   },
   "source": [
    "The batch size determines over how much data per step is used to compute the loss function, gradients, and back propagation. Large batch sizes allow the network to complete it's training faster; however, there are other factors beyond training speed to consider.\n",
    "\n",
    "Too large of a batch size smoothes the local minima of the loss function, causing the optimizer to settle in one because it thinks it found the global minimum.\n",
    "\n",
    "Too small of a batch size creates a very noisy loss function, and the optimizer may never find the global minimum.\n",
    "\n",
    "So a good batch size may take some trial and error to find!"
   ]
  },
  {
   "cell_type": "code",
   "execution_count": 17,
   "metadata": {
    "colab": {
     "base_uri": "https://localhost:8080/"
    },
    "id": "dR60zRdAmh0S",
    "outputId": "74098272-785c-4bf9-dda1-20d99305ca83"
   },
   "outputs": [
    {
     "name": "stdout",
     "output_type": "stream",
     "text": [
      "Epoch 1/5\n",
      "469/469 [==============================] - 8s 15ms/step - loss: 0.4518 - accuracy: 0.8675\n",
      "Epoch 2/5\n",
      "469/469 [==============================] - 7s 14ms/step - loss: 0.1046 - accuracy: 0.9680\n",
      "Epoch 3/5\n",
      "469/469 [==============================] - 7s 14ms/step - loss: 0.0686 - accuracy: 0.9786\n",
      "Epoch 4/5\n",
      "469/469 [==============================] - 7s 15ms/step - loss: 0.0581 - accuracy: 0.9820\n",
      "Epoch 5/5\n",
      "469/469 [==============================] - 7s 14ms/step - loss: 0.0453 - accuracy: 0.9849\n"
     ]
    },
    {
     "data": {
      "text/plain": [
       "<tensorflow.python.keras.callbacks.History at 0x7f00bb6ebd90>"
      ]
     },
     "execution_count": 17,
     "metadata": {
      "tags": []
     },
     "output_type": "execute_result"
    }
   ],
   "source": [
    "model.fit(X_train, Y_train,\n",
    "          batch_size=128, epochs=5,\n",
    "          verbose=1)"
   ]
  },
  {
   "cell_type": "markdown",
   "metadata": {
    "id": "PrZkXUnFmh0S"
   },
   "source": [
    "The two numbers, in order, represent the value of the loss function of the network on the training set, and the overall accuracy of the network on the training data. But how does it do on data it did not train on?"
   ]
  },
  {
   "cell_type": "markdown",
   "metadata": {
    "id": "ZsstguMCmh0S"
   },
   "source": [
    "## Evaluate Model's Accuracy on Test Data"
   ]
  },
  {
   "cell_type": "code",
   "execution_count": 18,
   "metadata": {
    "colab": {
     "base_uri": "https://localhost:8080/"
    },
    "id": "jX18Sc-fmh0S",
    "outputId": "f05afb56-1ec8-4c92-85a6-c4cd133ce53a"
   },
   "outputs": [
    {
     "name": "stdout",
     "output_type": "stream",
     "text": [
      "313/313 [==============================] - 1s 3ms/step - loss: 0.0660 - accuracy: 0.9806\n",
      "Test score: 0.0660141259431839\n",
      "Test accuracy: 0.9805999994277954\n"
     ]
    }
   ],
   "source": [
    "score = model.evaluate(X_test, Y_test)\n",
    "print('Test score:', score[0])\n",
    "print('Test accuracy:', score[1])"
   ]
  },
  {
   "cell_type": "markdown",
   "metadata": {
    "id": "wsCPX9Xfmh0S"
   },
   "source": [
    "### Inspecting the output\n",
    "\n",
    "It's always a good idea to inspect the output and make sure everything looks sane. Here we'll look at some examples it gets right, and some examples it gets wrong."
   ]
  },
  {
   "cell_type": "code",
   "execution_count": 19,
   "metadata": {
    "colab": {
     "base_uri": "https://localhost:8080/"
    },
    "collapsed": true,
    "id": "Tg107BcLmh0S",
    "outputId": "2cc99737-30a3-4c12-b2bd-e964f8c8c153"
   },
   "outputs": [
    {
     "name": "stderr",
     "output_type": "stream",
     "text": [
      "/usr/local/lib/python3.7/dist-packages/tensorflow/python/keras/engine/sequential.py:450: UserWarning: `model.predict_classes()` is deprecated and will be removed after 2021-01-01. Please use instead:* `np.argmax(model.predict(x), axis=-1)`,   if your model does multi-class classification   (e.g. if it uses a `softmax` last-layer activation).* `(model.predict(x) > 0.5).astype(\"int32\")`,   if your model does binary classification   (e.g. if it uses a `sigmoid` last-layer activation).\n",
      "  warnings.warn('`model.predict_classes()` is deprecated and '\n"
     ]
    }
   ],
   "source": [
    "# The predict_classes function outputs the highest probability class\n",
    "# according to the trained classifier for each input example.\n",
    "predicted_classes = model.predict_classes(X_test)\n",
    "\n",
    "# Check which items we got right / wrong\n",
    "correct_indices = np.nonzero(predicted_classes == y_test)[0]\n",
    "\n",
    "incorrect_indices = np.nonzero(predicted_classes != y_test)[0]"
   ]
  },
  {
   "cell_type": "code",
   "execution_count": 20,
   "metadata": {
    "colab": {
     "base_uri": "https://localhost:8080/",
     "height": 1000
    },
    "id": "GuaVcMQBmh0T",
    "outputId": "276a35d1-78f1-48e9-a44d-29a25ae735ce"
   },
   "outputs": [
    {
     "data": {
      "image/png": "[encoded data removed]",
      "text/plain": [
       "<Figure size 648x648 with 9 Axes>"
      ]
     },
     "metadata": {
      "needs_background": "light",
      "tags": []
     },
     "output_type": "display_data"
    },
    {
     "data": {
      "image/png": "[encoded data removed]",
      "text/plain": [
       "<Figure size 648x648 with 9 Axes>"
      ]
     },
     "metadata": {
      "needs_background": "light",
      "tags": []
     },
     "output_type": "display_data"
    }
   ],
   "source": [
    "plt.figure()\n",
    "for i, correct in enumerate(correct_indices[:9]):\n",
    "    plt.subplot(3,3,i+1)\n",
    "    plt.imshow(X_test[correct].reshape(28,28), cmap='gray', interpolation='none')\n",
    "    plt.title(\"Predicted {}, Class {}\".format(predicted_classes[correct], y_test[correct]))\n",
    "    \n",
    "plt.tight_layout()\n",
    "    \n",
    "plt.figure()\n",
    "for i, incorrect in enumerate(incorrect_indices[:9]):\n",
    "    plt.subplot(3,3,i+1)\n",
    "    plt.imshow(X_test[incorrect].reshape(28,28), cmap='gray', interpolation='none')\n",
    "    plt.title(\"Predicted {}, Class {}\".format(predicted_classes[incorrect], y_test[incorrect]))\n",
    "    \n",
    "plt.tight_layout()"
   ]
  },
  {
   "cell_type": "markdown",
   "metadata": {
    "id": "sRLuceUUmh0T"
   },
   "source": [
    "# Trying experimenting with the batch size!\n",
    "\n",
    "#### How does increasing the batch size to 10,000 affect the training time and test accuracy?\n",
    "\n",
    "#### How about a batch size of 32?"
   ]
  }
 ],
 "metadata": {
  "colab": {
   "name": "MNIST-in-Keras.ipynb",
   "provenance": []
  },
  "kernelspec": {
   "display_name": "Python 3",
   "language": "python",
   "name": "python3"
  },
  "language_info": {
   "codemirror_mode": {
    "name": "ipython",
    "version": 3
   },
   "file_extension": ".py",
   "mimetype": "text/x-python",
   "name": "python",
   "nbconvert_exporter": "python",
   "pygments_lexer": "ipython3",
   "version": "3.6.9"
  }
 },
 "nbformat": 4,
 "nbformat_minor": 1
}
