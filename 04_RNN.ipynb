{
 "cells": [
  {
   "cell_type": "markdown",
   "metadata": {},
   "source": [
    "# Simple Vanilla RNN\n",
    "\n",
    "Dieses einfache Beispiel soll zeigen, wie der Hidden-State von h(t-1) auf h(t) weitergegeben wird. Die Weight-Matrizen werden im Konstruktor bereits initialisiert (kein Training!).\n",
    "\n",
    "Mit der step()-Methode wird dann der nächste Schritt abgerufen."
   ]
  },
  {
   "cell_type": "code",
   "execution_count": 1,
   "metadata": {},
   "outputs": [],
   "source": [
    "import numpy as np\n",
    "\n",
    "class RNN:\n",
    "    \n",
    "    # init the RNN\n",
    "    def __init__(self, start):\n",
    "        self.h = start\n",
    "        #parameters\n",
    "        self.W_hh = np.matrix([...])\n",
    "        self.W_xh = np.matrix([...])\n",
    "        self.W_hy = np.matrix([...])\n",
    "        \n",
    "    # Step through the RNN by time\n",
    "    def step(self, x):\n",
    "        # update the hidden state\n",
    "        self.h = (np.dot(self.W_hh, self.h) + np.dot(self.W_xh, x))\n",
    "        # normalize to max and take the abs\n",
    "        self.h = np.floor(self.h/np.max(self.h))\n",
    "        # compute the hidden vector\n",
    "        self.h = np.array(self.h)[0]\n",
    "        # compute the output\n",
    "        y = np.dot(self.W_hy, self.h)\n",
    "        self.h= np.array(y)[0]\n",
    "        return y\n",
    "\n",
    "        "
   ]
  },
  {
   "cell_type": "markdown",
   "metadata": {},
   "source": [
    "## Testen\n",
    "\n",
    "Zum Testen wird das RNN mit h0 initialisiert. Danach wird das RNN nur mit X gefüttert und der Hidden-State wird weitergereicht."
   ]
  },
  {
   "cell_type": "code",
   "execution_count": 2,
   "metadata": {},
   "outputs": [
    {
     "ename": "TypeError",
     "evalue": "unsupported operand type(s) for *: 'ellipsis' and 'ellipsis'",
     "output_type": "error",
     "traceback": [
      "\u001b[0;31m---------------------------------------------------------------------------\u001b[0m",
      "\u001b[0;31mTypeError\u001b[0m                                 Traceback (most recent call last)",
      "Input \u001b[0;32mIn [2]\u001b[0m, in \u001b[0;36m<cell line: 5>\u001b[0;34m()\u001b[0m\n\u001b[1;32m      2\u001b[0m rnn \u001b[38;5;241m=\u001b[39m RNN(\u001b[38;5;241m.\u001b[39m\u001b[38;5;241m.\u001b[39m\u001b[38;5;241m.\u001b[39m)\n\u001b[1;32m      4\u001b[0m \u001b[38;5;66;03m# today \u001b[39;00m\n\u001b[0;32m----> 5\u001b[0m yt \u001b[38;5;241m=\u001b[39m \u001b[43mrnn\u001b[49m\u001b[38;5;241;43m.\u001b[39;49m\u001b[43mstep\u001b[49m\u001b[43m(\u001b[49m\u001b[38;5;241;43m.\u001b[39;49m\u001b[38;5;241;43m.\u001b[39;49m\u001b[38;5;241;43m.\u001b[39;49m\u001b[43m)\u001b[49m\n\u001b[1;32m      6\u001b[0m \u001b[38;5;28mprint\u001b[39m(\u001b[38;5;124m\"\u001b[39m\u001b[38;5;124mMonday : \u001b[39m\u001b[38;5;130;01m\\t\u001b[39;00m\u001b[38;5;132;01m%s\u001b[39;00m\u001b[38;5;124m\"\u001b[39m \u001b[38;5;241m%\u001b[39m yt)\n\u001b[1;32m      8\u001b[0m \u001b[38;5;66;03m# next day \u001b[39;00m\n",
      "Input \u001b[0;32mIn [1]\u001b[0m, in \u001b[0;36mRNN.step\u001b[0;34m(self, x)\u001b[0m\n\u001b[1;32m     14\u001b[0m \u001b[38;5;28;01mdef\u001b[39;00m \u001b[38;5;21mstep\u001b[39m(\u001b[38;5;28mself\u001b[39m, x):\n\u001b[1;32m     15\u001b[0m     \u001b[38;5;66;03m# update the hidden state\u001b[39;00m\n\u001b[0;32m---> 16\u001b[0m     \u001b[38;5;28mself\u001b[39m\u001b[38;5;241m.\u001b[39mh \u001b[38;5;241m=\u001b[39m (\u001b[43mnp\u001b[49m\u001b[38;5;241;43m.\u001b[39;49m\u001b[43mdot\u001b[49m\u001b[43m(\u001b[49m\u001b[38;5;28;43mself\u001b[39;49m\u001b[38;5;241;43m.\u001b[39;49m\u001b[43mW_hh\u001b[49m\u001b[43m,\u001b[49m\u001b[43m \u001b[49m\u001b[38;5;28;43mself\u001b[39;49m\u001b[38;5;241;43m.\u001b[39;49m\u001b[43mh\u001b[49m\u001b[43m)\u001b[49m \u001b[38;5;241m+\u001b[39m np\u001b[38;5;241m.\u001b[39mdot(\u001b[38;5;28mself\u001b[39m\u001b[38;5;241m.\u001b[39mW_xh, x))\n\u001b[1;32m     17\u001b[0m     \u001b[38;5;66;03m# normalize to max and take the abs\u001b[39;00m\n\u001b[1;32m     18\u001b[0m     \u001b[38;5;28mself\u001b[39m\u001b[38;5;241m.\u001b[39mh \u001b[38;5;241m=\u001b[39m np\u001b[38;5;241m.\u001b[39mfloor(\u001b[38;5;28mself\u001b[39m\u001b[38;5;241m.\u001b[39mh\u001b[38;5;241m/\u001b[39mnp\u001b[38;5;241m.\u001b[39mmax(\u001b[38;5;28mself\u001b[39m\u001b[38;5;241m.\u001b[39mh))\n",
      "File \u001b[0;32m<__array_function__ internals>:180\u001b[0m, in \u001b[0;36mdot\u001b[0;34m(*args, **kwargs)\u001b[0m\n",
      "\u001b[0;31mTypeError\u001b[0m: unsupported operand type(s) for *: 'ellipsis' and 'ellipsis'"
     ]
    }
   ],
   "source": [
    "# lets assume h0 is ?\n",
    "rnn = RNN(...)\n",
    "\n",
    "# today \n",
    "yt = rnn.step(...)\n",
    "print(\"Monday : \\t%s\" % yt)\n",
    "\n",
    "# next day \n",
    "yt = rnn.step(...)\n",
    "print(\"Tuesday : \\t%s\" % yt)\n",
    "\n",
    "# next day \n",
    "yt = rnn.step(...)\n",
    "print(\"Wednesday : \\t%s\" % yt)\n",
    "\n",
    "# next day \n",
    "yt = rnn.step(...)\n",
    "print(\"Thursday : \\t%s\" % yt)\n"
   ]
  },
  {
   "cell_type": "code",
   "execution_count": null,
   "metadata": {},
   "outputs": [],
   "source": []
  }
 ],
 "metadata": {
  "kernelspec": {
   "display_name": "Python 3 (ipykernel)",
   "language": "python",
   "name": "python3"
  },
  "language_info": {
   "codemirror_mode": {
    "name": "ipython",
    "version": 3
   },
   "file_extension": ".py",
   "mimetype": "text/x-python",
   "name": "python",
   "nbconvert_exporter": "python",
   "pygments_lexer": "ipython3",
   "version": "3.9.12"
  }
 },
 "nbformat": 4,
 "nbformat_minor": 2
}
