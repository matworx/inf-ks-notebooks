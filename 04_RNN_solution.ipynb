{
 "cells": [
  {
   "cell_type": "code",
   "execution_count": 1,
   "metadata": {},
   "outputs": [
    {
     "name": "stdout",
     "output_type": "stream",
     "text": [
      "Monday training with rain: \t[[1. 0. 0.]]\n",
      "Tuesday training with sun: \t[[0. 1. 0.]]\n",
      "Wednesday training with rain: \t[[0. 1. 0.]]\n",
      "Thursday training with sun: \t[[0. 0. 1.]]\n"
     ]
    }
   ],
   "source": [
    "import numpy as np\n",
    "\n",
    "class RNN:\n",
    "    \n",
    "    # init the RNN\n",
    "    def __init__(self, start):\n",
    "        self.h = start\n",
    "        #parameters\n",
    "        self.W_hh = np.matrix([[1,0,0],\n",
    "                               [0,1,0],\n",
    "                               [0,0,1],\n",
    "                               [0,0,1],\n",
    "                               [1,0,0],\n",
    "                               [0,1,0]])\n",
    "        self.W_xh = np.matrix([[0,1],\n",
    "                               [0,1],\n",
    "                               [1,0],\n",
    "                               [0,1],\n",
    "                               [1,0],\n",
    "                               [1,0]])\n",
    "        self.W_hy = np.matrix([[1,0,0,1,0,0],\n",
    "                               [0,1,0,0,1,0],\n",
    "                               [0,0,1,0,0,1]])\n",
    "        \n",
    "    # Setp thtough the RNN by time\n",
    "    def step(self, x):\n",
    "        # update the hidden state\n",
    "        self.h = (np.dot(self.W_hh, self.h) + np.dot(self.W_xh, x))\n",
    "        # normalize to max and take the abs\n",
    "        self.h = np.floor(self.h/np.max(self.h))\n",
    "        # compute the hidden vector\n",
    "        self.h = np.array(self.h)[0]\n",
    "        # compute the output\n",
    "        y = np.dot(self.W_hy, self.h)\n",
    "        self.h= np.array(y)[0]\n",
    "        return y\n",
    "\n",
    "# lets assume last training was cycling = [0,0,1]\n",
    "rnn = RNN([0,0,1])\n",
    "\n",
    "# today it rains = [0,1]\n",
    "yt = rnn.step([0,1])\n",
    "print(\"Monday training with rain: \\t%s\" % yt)\n",
    "\n",
    "# next day sun shines = [1,0]\n",
    "yt = rnn.step([1,0])\n",
    "print(\"Tuesday training with sun: \\t%s\" % yt)\n",
    "\n",
    "# next day sun raines = [0,1]\n",
    "yt = rnn.step([0,1])\n",
    "print(\"Wednesday training with rain: \\t%s\" % yt)\n",
    "\n",
    "# next day sun shines = [1,0]\n",
    "yt = rnn.step([1,0])\n",
    "print(\"Thursday training with sun: \\t%s\" % yt)\n",
    "\n"
   ]
  },
  {
   "cell_type": "code",
   "execution_count": null,
   "metadata": {},
   "outputs": [],
   "source": []
  },
  {
   "cell_type": "code",
   "execution_count": null,
   "metadata": {},
   "outputs": [],
   "source": []
  }
 ],
 "metadata": {
  "kernelspec": {
   "display_name": "Python 3 (ipykernel)",
   "language": "python",
   "name": "python3"
  },
  "language_info": {
   "codemirror_mode": {
    "name": "ipython",
    "version": 3
   },
   "file_extension": ".py",
   "mimetype": "text/x-python",
   "name": "python",
   "nbconvert_exporter": "python",
   "pygments_lexer": "ipython3",
   "version": "3.9.12"
  }
 },
 "nbformat": 4,
 "nbformat_minor": 2
}
