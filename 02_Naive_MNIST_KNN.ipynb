{
 "cells": [
  {
   "cell_type": "markdown",
   "metadata": {},
   "source": [
    "## Aufgabe: Neuronales Netz\n",
    "\n",
    "Diese Programieraufgabe berechnet ein neuronales Netz für einen Beispieldatensatz. Es geht darum einen Klassifizierer zu trainieren, der Ziffern erkennen soll.\n",
    "\n",
    "Gegeben sind folgende Ziffern zum Training:\n"
   ]
  },
  {
   "cell_type": "markdown",
   "metadata": {},
   "source": [
    "![](img/numbers.png)"
   ]
  },
  {
   "cell_type": "markdown",
   "metadata": {},
   "source": [
    "### Augabe 1:\n",
    "\n",
    "Bilden sie die Ziffern in einem Numpy-Array X ab und und die Label in einem weiteren Numpy-Array Y:"
   ]
  },
  {
   "cell_type": "code",
   "execution_count": 1,
   "metadata": {},
   "outputs": [],
   "source": [
    "import numpy as np\n",
    "np.set_printoptions(suppress=True)"
   ]
  },
  {
   "cell_type": "code",
   "execution_count": 2,
   "metadata": {},
   "outputs": [
    {
     "ename": "SyntaxError",
     "evalue": "invalid syntax (2910398889.py, line 1)",
     "output_type": "error",
     "traceback": [
      "\u001b[0;36m  Cell \u001b[0;32mIn[2], line 1\u001b[0;36m\u001b[0m\n\u001b[0;31m    X = np.array([[0,0,1,0,0.... ],  # Ziffer '1'\u001b[0m\n\u001b[0m                             ^\u001b[0m\n\u001b[0;31mSyntaxError\u001b[0m\u001b[0;31m:\u001b[0m invalid syntax\n"
     ]
    }
   ],
   "source": [
    "X = np.array([[0,0,1,0,0.... ],  # Ziffer '1'\n",
    "              [0,1,1,0,1 .... ],  # Ziffer '2'\n",
    "              [0,1,1,0, ...  ]]) # Ziffer '3'\n",
    "\n",
    "Y = np.array([[1,0,0],  # klassifiziert als ‚1’\n",
    "              [...],  # klassifiziert als ‚2’\n",
    "              [...]]) # klassifiziert als ‚3’"
   ]
  },
  {
   "cell_type": "markdown",
   "metadata": {},
   "source": [
    "## Aufgabe 2:\n",
    "\n",
    "\n",
    "Schreiben Sie die Hilfsfunktionen zur Berechnung des sigmoid und der Funktion eines Neuron (incl. Aktivierung durch sigmoids):"
   ]
  },
  {
   "cell_type": "code",
   "execution_count": 7,
   "metadata": {},
   "outputs": [
    {
     "name": "stdout",
     "output_type": "stream",
     "text": [
      "0.9975273768433653\n"
     ]
    }
   ],
   "source": [
    "# Sigmoid Berechnung\n",
    "def sigmoid(x):\n",
    "    # your code goes here\n",
    "    return ...\n",
    "\n",
    "# Ableitung vom sigmoid\n",
    "def sigmoid_d(x):\n",
    "    return sigmoid(x)*(1-sigmoid(x))\n",
    "\n",
    "# Neuron \n",
    "def neuron(I,W,f):\n",
    "    # your code goes here\n",
    "    return ...\n",
    "\n",
    "def layer(I,W):\n",
    "    # your code goes here\n",
    "    return ...\n",
    "\n",
    "# Test\n",
    "print(layer(np.array([1,2,3]), np.array([1,1,1]), sigmoid))\n",
    "\n",
    "# das Resultat sollte 0.9975273768433653 sein!!!!\n"
   ]
  },
  {
   "cell_type": "markdown",
   "metadata": {},
   "source": [
    "### Aufgabe 3:\n",
    "\n",
    "Initialisiere das neuronale Netz und verknüpfe die Layer. Das Netz sollte einen Input-Layer (L0), 1 Hidden-Layer (L1) und einen Output-Layer (L3) haben.\n",
    "\n"
   ]
  },
  {
   "cell_type": "code",
   "execution_count": 26,
   "metadata": {},
   "outputs": [
    {
     "name": "stdout",
     "output_type": "stream",
     "text": [
      "[[0.99999987 0.99999897 0.99999929]\n",
      " [0.99999992 0.99999932 0.9999995 ]\n",
      " [0.99999992 0.99999931 0.9999995 ]]\n"
     ]
    }
   ],
   "source": [
    "# Initialisierung\n",
    "np.random.seed(1)       \n",
    "\n",
    "# Verknuepfe Input- mit Hidden-Layer\n",
    "\n",
    "# wieviele  Eingangswerte gibt es?\n",
    "# und waehle beliebig Neuronen im Hidden-Layer\n",
    "W0 = np.random.random((??,??)) \n",
    "\n",
    "# Verknuepfe Hidden- mit Output-Layer\n",
    "\n",
    "# wieviele  Ausgangswerte gibt es?\n",
    "\n",
    "W1 = np.random.random((??,??))\n",
    "\n",
    "\n",
    "L0 = X              # Input Layer\n",
    "L1 = neuron(L0, W0)  # Hidden Layer\n",
    "L3 = neuron(L1, W1)  # Output Layer\n",
    "print(L3)\n",
    "\n",
    "# Das sollte laufen und folgendes ausgeben\n",
    "#[[0.99999987 0.99999897 0.99999929]\n",
    "# [0.99999992 0.99999932 0.9999995 ]\n",
    "# [0.99999992 0.99999931 0.9999995 ]]\n"
   ]
  },
  {
   "cell_type": "markdown",
   "metadata": {},
   "source": [
    "## Aufgabe 4:\n",
    "\n",
    "Das eigentliche Herzstück: Implementiere den Backpropagation-Algorithmus über dieses neuronale Netz. Hierzu:\n",
    "1. Berechne das Resultat, sprich führe Forward-Propagation aus\n",
    "2. Ermittle den Fehler zwischen dem Resultat und Y\n",
    "3. Bestimme das Delta mit dem die Wichtungen zwischen Hidden und Output-Layer angepasst werden muss\n",
    "4. Bestimme das Delta mit dem die Wichtungen zwischen Hidden und Input-Layer anpasst werden muss\n",
    "5. Wiederhole das Ganze, bis der Fehler kleiner 0.05 ist!"
   ]
  },
  {
   "cell_type": "code",
   "execution_count": 27,
   "metadata": {},
   "outputs": [
    {
     "name": "stdout",
     "output_type": "stream",
     "text": [
      "0 Error: 0.6666664684\n",
      "1 Error: 0.6532297798\n",
      "2 Error: 0.3335503084\n",
      "3 Error: 0.4857498090\n",
      "4 Error: 0.3684471186\n",
      "5 Error: 0.6226404010\n",
      "6 Error: 0.3334557970\n",
      "7 Error: 0.4484668228\n",
      "8 Error: 0.4027772739\n",
      "9 Error: 0.5400987772\n",
      "10 Error: 0.3447847136\n",
      "11 Error: 0.5710967506\n",
      "12 Error: 0.3582730959\n",
      "13 Error: 0.4691820316\n",
      "14 Error: 0.4098541233\n",
      "15 Error: 0.4590375682\n",
      "16 Error: 0.4429856326\n",
      "17 Error: 0.5147953030\n",
      "18 Error: 0.3566456630\n",
      "19 Error: 0.4735943397\n",
      "20 Error: 0.3602927298\n",
      "21 Error: 0.5524502545\n",
      "22 Error: 0.3335885476\n",
      "23 Error: 0.5313577609\n",
      "24 Error: 0.3620581886\n",
      "25 Error: 0.4276051789\n",
      "26 Error: 0.3539517666\n",
      "27 Error: 0.5168308066\n",
      "28 Error: 0.4263797779\n",
      "29 Error: 0.3881121379\n",
      "30 Error: 0.3420964238\n",
      "31 Error: 0.4377456062\n",
      "32 Error: 0.3048748720\n",
      "33 Error: 0.4488094186\n",
      "34 Error: 0.3306011919\n",
      "35 Error: 0.5153013873\n",
      "36 Error: 0.3330783323\n",
      "37 Error: 0.3727043320\n",
      "38 Error: 0.2961838752\n",
      "39 Error: 0.4968660455\n",
      "40 Error: 0.3309216504\n",
      "41 Error: 0.3720174572\n",
      "42 Error: 0.3233973557\n",
      "43 Error: 0.5007600121\n",
      "44 Error: 0.3285126049\n",
      "45 Error: 0.3317745617\n",
      "46 Error: 0.3112740772\n",
      "47 Error: 0.4896617262\n",
      "48 Error: 0.3165319857\n",
      "49 Error: 0.2998209775\n",
      "50 Error: 0.2836812125\n",
      "51 Error: 0.4148503831\n",
      "52 Error: 0.2562653378\n",
      "53 Error: 0.2360520423\n",
      "54 Error: 0.2317294554\n",
      "55 Error: 0.3572273026\n",
      "56 Error: 0.2392219169\n",
      "57 Error: 0.2381845546\n",
      "58 Error: 0.2277908534\n",
      "59 Error: 0.3300247331\n",
      "60 Error: 0.2315876599\n",
      "61 Error: 0.2327514672\n",
      "62 Error: 0.2200057743\n",
      "63 Error: 0.3075090294\n",
      "64 Error: 0.2196461673\n",
      "65 Error: 0.2127715017\n",
      "66 Error: 0.2047970391\n",
      "67 Error: 0.2780697575\n",
      "68 Error: 0.1999572670\n",
      "69 Error: 0.1799326432\n",
      "70 Error: 0.1767327216\n",
      "71 Error: 0.2298464541\n",
      "72 Error: 0.1641826527\n",
      "73 Error: 0.1421150105\n",
      "74 Error: 0.1460249043\n",
      "75 Error: 0.1990644333\n",
      "76 Error: 0.1504864789\n",
      "77 Error: 0.1406750795\n",
      "78 Error: 0.1417706259\n",
      "79 Error: 0.1847946309\n",
      "80 Error: 0.1468882141\n",
      "81 Error: 0.1441332165\n",
      "82 Error: 0.1391798765\n",
      "83 Error: 0.1699846626\n",
      "84 Error: 0.1426007471\n",
      "85 Error: 0.1473080434\n",
      "86 Error: 0.1362872315\n",
      "87 Error: 0.1557870614\n",
      "88 Error: 0.1366770361\n",
      "89 Error: 0.1459481972\n",
      "90 Error: 0.1317458435\n",
      "91 Error: 0.1429350385\n",
      "92 Error: 0.1283699645\n",
      "93 Error: 0.1361100974\n",
      "94 Error: 0.1227324339\n",
      "95 Error: 0.1271461138\n",
      "96 Error: 0.1146793697\n",
      "97 Error: 0.1136156559\n",
      "98 Error: 0.1013954334\n",
      "99 Error: 0.0916395576\n",
      "100 Error: 0.0786893378\n",
      "101 Error: 0.0639483620\n",
      "102 Error: 0.0578372433\n",
      "103 Error: 0.0541539045\n",
      "104 Error: 0.0536504912\n",
      "105 Error: 0.0528948662\n",
      "106 Error: 0.0523878390\n",
      "107 Error: 0.0518276923\n",
      "108 Error: 0.0512976615\n",
      "109 Error: 0.0507693328\n",
      "110 Error: 0.0502508244\n",
      "111 Error: 0.0497394576\n"
     ]
    }
   ],
   "source": [
    "for i in range(60000):\n",
    "    # forward processing\n",
    "    L0 = \n",
    "    L1 = \n",
    "    L3 = \n",
    "    \n",
    "    \n",
    "    # bestimme den Fehler und berechne Delta und anpassung auf Hidden-Layer\n",
    "    L3_err = \n",
    "    L3_delta = \n",
    "    W1 += \n",
    "    \n",
    "    print(\"%s Error: %6.10f\" % (i,np.mean(np.abs(L3_err))))\n",
    "        \n",
    "    # bestimme den Fehler und berechne Delta und anpassung auf Input-Layer\n",
    "    L1_err =     \n",
    "    L1_delta = \n",
    "    W0 += \n",
    "    "
   ]
  },
  {
   "cell_type": "markdown",
   "metadata": {},
   "source": [
    "### Aufgabe 5:\n",
    "Zeit zum Testen. Wir schauen mal ob das Modell nun auch Abweichungen erkennen kann und richtig klassifiziert.\n",
    "Hierzu gibt es folgende Abweichungen:"
   ]
  },
  {
   "cell_type": "code",
   "execution_count": 4,
   "metadata": {},
   "outputs": [
    {
     "data": {
      "image/png": "[encoded data removed]",
      "text/plain": [
       "<Figure size 640x480 with 2 Axes>"
      ]
     },
     "metadata": {},
     "output_type": "display_data"
    }
   ],
   "source": [
    "import numpy as np\n",
    "import matplotlib.pyplot as plt\n",
    "\n",
    "A = [[0,0,1,0,0,1,1,0,0,0,1,0,0,0,1,0,0,0,0,0],\n",
    "     [0,0,1,0,0,0,1,0,0,0,1,0,0,0,1,0,0,0,1,0]]\n",
    "\n",
    "Q = np.reshape(A, (2,5,4))\n",
    "\n",
    "cmap = plt.cm.Greys\n",
    "\n",
    "fig, ax = plt.subplots(2)\n",
    "\n",
    "for i in range(2):\n",
    "    ax[i].set_aspect('equal')\n",
    "    ax[i].set_axis_off()\n",
    "    ax[i].pcolor(np.flipud(Q[i]), edgecolors='k', linewidths=2, cmap=cmap)\n",
    "\n",
    "fig.tight_layout()\n",
    "plt.show()\n"
   ]
  },
  {
   "cell_type": "markdown",
   "metadata": {},
   "source": [
    "Zunächst kurz überlegen, wie das als Numpy-Array abgebildet werden kann!"
   ]
  },
  {
   "cell_type": "code",
   "execution_count": 21,
   "metadata": {},
   "outputs": [
    {
     "name": "stdout",
     "output_type": "stream",
     "text": [
      "[[0.95764431 0.02022213 0.00282105]]\n"
     ]
    }
   ],
   "source": [
    "# Test 1\n",
    "L0 = np.array([...])\n",
    "L1 = layer(L0, W0)\n",
    "L3 = layer(L1, W1)\n",
    "\n",
    "print(L2)\n",
    "\n",
    "# Ausgabe etwas wie\n",
    "# [[0.95764431 0.02022213 0.00282105]]\n"
   ]
  },
  {
   "cell_type": "markdown",
   "metadata": {},
   "source": [
    "Was heisst das Ergebnis?"
   ]
  },
  {
   "cell_type": "markdown",
   "metadata": {},
   "source": [
    "Test 2"
   ]
  },
  {
   "cell_type": "code",
   "execution_count": 22,
   "metadata": {},
   "outputs": [
    {
     "name": "stdout",
     "output_type": "stream",
     "text": [
      "[[0.88233092 0.05561936 0.00533852]]\n"
     ]
    }
   ],
   "source": [
    "# Test 2\n",
    "L0 = np.array([...])\n",
    "L1 = layer(L0, W0)\n",
    "L3 = layer(L1, W1)\n",
    "\n",
    "print(L2)\n",
    "\n",
    "# Ausgabe etwas wie\n",
    "# [[0.88233092 0.05561936 0.00533852]]"
   ]
  }
 ],
 "metadata": {
  "kernelspec": {
   "display_name": "Python 3 (ipykernel)",
   "language": "python",
   "name": "python3"
  },
  "language_info": {
   "codemirror_mode": {
    "name": "ipython",
    "version": 3
   },
   "file_extension": ".py",
   "mimetype": "text/x-python",
   "name": "python",
   "nbconvert_exporter": "python",
   "pygments_lexer": "ipython3",
   "version": "3.9.6"
  }
 },
 "nbformat": 4,
 "nbformat_minor": 4
}
