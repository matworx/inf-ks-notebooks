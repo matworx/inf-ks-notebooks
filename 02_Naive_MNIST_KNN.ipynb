{
  "cells": [
    {
      "metadata": {},
      "cell_type": "markdown",
      "source": "## Aufgabe: Neuronales Netz\n\nDiese Programieraufgabe berechnet ein neuronales Netz für einen Beispieldatensatz. Es geht darum einen Klassifizierer zu trainieren, der Ziffern erkennen soll.\n\nGegeben sind folgende Ziffern zum Training:\n"
    },
    {
      "metadata": {},
      "cell_type": "markdown",
      "source": "![](numbers.jpg)"
    },
    {
      "metadata": {},
      "cell_type": "markdown",
      "source": "### Augabe 1:\n\nBilden sie die Ziffern in einem Numpy-Array X ab und und die Label in einem weiteren Numpy-Array Y:"
    },
    {
      "metadata": {
        "trusted": false
      },
      "cell_type": "code",
      "source": "import numpy as np\nnp.set_printoptions(suppress=True)",
      "execution_count": 2,
      "outputs": []
    },
    {
      "metadata": {
        "trusted": true
      },
      "cell_type": "code",
      "source": "X = np.array([[0,0,1,0,0.... ],  # Ziffer '1'\n              [0,1,1,0,1 .... ],  # Ziffer '2'\n              [0,1,1,0, ...  ]]) # Ziffer '3'\n\nY = np.array([[1,0,0],  # klassifiziert als ‚1’\n              [...],  # klassifiziert als ‚2’\n              [...]]) # klassifiziert als ‚3’",
      "execution_count": null,
      "outputs": []
    },
    {
      "metadata": {},
      "cell_type": "markdown",
      "source": "## Aufgabe 2:\n\n\nSchreiben Sie die Hilfsfunktionen zur Berechnung des sigmoid und der Funktion eines Neuron (incl. Aktivierung durch sigmoids):"
    },
    {
      "metadata": {
        "trusted": false
      },
      "cell_type": "code",
      "source": "# Sigmoid Berechnung\ndef sigmoid(x):\n    # your code goes here\n    return ...\n\n# Ableitung vom sigmoid\ndef sigmoid_d(x):\n    return sigmoid(x)*(1-sigmoid(x))\n\n# Neuron \ndef neuron(I,W,f):\n    # your code goes here\n    return ...\n\ndef layer(I,W):\n    # your code goes here\n    return ...\n\n# Test\nprint(layer(np.array([1,2,3]), np.array([1,1,1]), sigmoid))\n\n# das Resultat sollte 0.9975273768433653 sein!!!!\n",
      "execution_count": 7,
      "outputs": [
        {
          "name": "stdout",
          "output_type": "stream",
          "text": "0.9975273768433653\n"
        }
      ]
    },
    {
      "metadata": {},
      "cell_type": "markdown",
      "source": "### Aufgabe 3:\n\nInitialisiere das neuronale Netz und verknüpfe die Layer. Das Netz sollte einen Input-Layer (L0), 1 Hidden-Layer (L1) und einen Output-Layer (L3) haben.\n\n"
    },
    {
      "metadata": {
        "trusted": false
      },
      "cell_type": "code",
      "source": "# Initialisierung\nnp.random.seed(1)       \n\n# Verknuepfe Input- mit Hidden-Layer\n\n# wieviele  Eingangswerte gibt es?\n# und waehle beliebig Neuronen im Hidden-Layer\nW0 = np.random.random((??,??)) \n\n# Verknuepfe Hidden- mit Output-Layer\n\n# wieviele  Ausgangswerte gibt es?\n\nW1 = np.random.random((??,??))\n\n\nL0 = X              # Input Layer\nL1 = neuron(L0, W0)  # Hidden Layer\nL3 = neuron(L1, W1)  # Output Layer\nprint(L3)\n\n# Das sollte laufen und folgendes ausgeben\n#[[0.99999987 0.99999897 0.99999929]\n# [0.99999992 0.99999932 0.9999995 ]\n# [0.99999992 0.99999931 0.9999995 ]]\n",
      "execution_count": 26,
      "outputs": [
        {
          "name": "stdout",
          "output_type": "stream",
          "text": "[[0.99999987 0.99999897 0.99999929]\n [0.99999992 0.99999932 0.9999995 ]\n [0.99999992 0.99999931 0.9999995 ]]\n"
        }
      ]
    },
    {
      "metadata": {},
      "cell_type": "markdown",
      "source": "## Aufgabe 4:\n\nDas eigentliche Herzstück: Implementiere den Backpropagation-Algorithmus über dieses neuronale Netz. Hierzu:\n1. Berechne das Resultat, sprich führe Forward-Propagation aus\n2. Ermittle den Fehler zwischen dem Resultat und Y\n3. Bestimme das Delta mit dem die Wichtungen zwischen Hidden und Output-Layer angepasst werden muss\n4. Bestimme das Delta mit dem die Wichtungen zwischen Hidden und Input-Layer anpasst werden muss\n5. Wiederhole das Ganze, bis der Fehler kleiner 0.05 ist!"
    },
    {
      "metadata": {
        "trusted": false
      },
      "cell_type": "code",
      "source": "for i in range(60000):\n    # forward processing\n    L0 = \n    L1 = \n    L3 = \n    \n    \n    # bestimme den Fehler und berechne Delta und anpassung auf Hidden-Layer\n    L3_err = \n    L3_delta = \n    W1 += \n    \n    print(\"%s Error: %6.10f\" % (i,np.mean(np.abs(L3_err))))\n        \n    # bestimme den Fehler und berechne Delta und anpassung auf Input-Layer\n    L1_err =     \n    L1_delta = \n    W0 += \n    ",
      "execution_count": 27,
      "outputs": [
        {
          "name": "stdout",
          "output_type": "stream",
          "text": "0 Error: 0.6666664684\n1 Error: 0.6532297798\n2 Error: 0.3335503084\n3 Error: 0.4857498090\n4 Error: 0.3684471186\n5 Error: 0.6226404010\n6 Error: 0.3334557970\n7 Error: 0.4484668228\n8 Error: 0.4027772739\n9 Error: 0.5400987772\n10 Error: 0.3447847136\n11 Error: 0.5710967506\n12 Error: 0.3582730959\n13 Error: 0.4691820316\n14 Error: 0.4098541233\n15 Error: 0.4590375682\n16 Error: 0.4429856326\n17 Error: 0.5147953030\n18 Error: 0.3566456630\n19 Error: 0.4735943397\n20 Error: 0.3602927298\n21 Error: 0.5524502545\n22 Error: 0.3335885476\n23 Error: 0.5313577609\n24 Error: 0.3620581886\n25 Error: 0.4276051789\n26 Error: 0.3539517666\n27 Error: 0.5168308066\n28 Error: 0.4263797779\n29 Error: 0.3881121379\n30 Error: 0.3420964238\n31 Error: 0.4377456062\n32 Error: 0.3048748720\n33 Error: 0.4488094186\n34 Error: 0.3306011919\n35 Error: 0.5153013873\n36 Error: 0.3330783323\n37 Error: 0.3727043320\n38 Error: 0.2961838752\n39 Error: 0.4968660455\n40 Error: 0.3309216504\n41 Error: 0.3720174572\n42 Error: 0.3233973557\n43 Error: 0.5007600121\n44 Error: 0.3285126049\n45 Error: 0.3317745617\n46 Error: 0.3112740772\n47 Error: 0.4896617262\n48 Error: 0.3165319857\n49 Error: 0.2998209775\n50 Error: 0.2836812125\n51 Error: 0.4148503831\n52 Error: 0.2562653378\n53 Error: 0.2360520423\n54 Error: 0.2317294554\n55 Error: 0.3572273026\n56 Error: 0.2392219169\n57 Error: 0.2381845546\n58 Error: 0.2277908534\n59 Error: 0.3300247331\n60 Error: 0.2315876599\n61 Error: 0.2327514672\n62 Error: 0.2200057743\n63 Error: 0.3075090294\n64 Error: 0.2196461673\n65 Error: 0.2127715017\n66 Error: 0.2047970391\n67 Error: 0.2780697575\n68 Error: 0.1999572670\n69 Error: 0.1799326432\n70 Error: 0.1767327216\n71 Error: 0.2298464541\n72 Error: 0.1641826527\n73 Error: 0.1421150105\n74 Error: 0.1460249043\n75 Error: 0.1990644333\n76 Error: 0.1504864789\n77 Error: 0.1406750795\n78 Error: 0.1417706259\n79 Error: 0.1847946309\n80 Error: 0.1468882141\n81 Error: 0.1441332165\n82 Error: 0.1391798765\n83 Error: 0.1699846626\n84 Error: 0.1426007471\n85 Error: 0.1473080434\n86 Error: 0.1362872315\n87 Error: 0.1557870614\n88 Error: 0.1366770361\n89 Error: 0.1459481972\n90 Error: 0.1317458435\n91 Error: 0.1429350385\n92 Error: 0.1283699645\n93 Error: 0.1361100974\n94 Error: 0.1227324339\n95 Error: 0.1271461138\n96 Error: 0.1146793697\n97 Error: 0.1136156559\n98 Error: 0.1013954334\n99 Error: 0.0916395576\n100 Error: 0.0786893378\n101 Error: 0.0639483620\n102 Error: 0.0578372433\n103 Error: 0.0541539045\n104 Error: 0.0536504912\n105 Error: 0.0528948662\n106 Error: 0.0523878390\n107 Error: 0.0518276923\n108 Error: 0.0512976615\n109 Error: 0.0507693328\n110 Error: 0.0502508244\n111 Error: 0.0497394576\n"
        }
      ]
    },
    {
      "metadata": {},
      "cell_type": "markdown",
      "source": "### Aufgabe 5:\nZeit zum Testen. Wir schauen mal ob das Modell nun auch Abweichungen erkennen kann und richtig klassifiziert.\nHierzu gibt es folgende Abweichungen:"
    },
    {
      "metadata": {},
      "cell_type": "markdown",
      "source": "![Abweichungen](numbers_new.jpg)"
    },
    {
      "metadata": {},
      "cell_type": "markdown",
      "source": "Zunächst kurz überlegen, wie das als Numpy-Array abgebildet werden kann!"
    },
    {
      "metadata": {
        "trusted": false
      },
      "cell_type": "code",
      "source": "# Test 1\nL0 = np.array([...])\nL1 = layer(L0, W0)\nL3 = layer(L1, W1)\n\nprint(L2)\n\n# Ausgabe etwas wie\n# [[0.95764431 0.02022213 0.00282105]]\n",
      "execution_count": 21,
      "outputs": [
        {
          "name": "stdout",
          "output_type": "stream",
          "text": "[[0.95764431 0.02022213 0.00282105]]\n"
        }
      ]
    },
    {
      "metadata": {},
      "cell_type": "markdown",
      "source": "Was heisst das Ergebnis?"
    },
    {
      "metadata": {},
      "cell_type": "markdown",
      "source": "Test 2"
    },
    {
      "metadata": {
        "trusted": false
      },
      "cell_type": "code",
      "source": "# Test 2\nL0 = np.array([...])\nL1 = layer(L0, W0)\nL3 = layer(L1, W1)\n\nprint(L2)\n\n# Ausgabe etwas wie\n# [[0.88233092 0.05561936 0.00533852]]",
      "execution_count": 22,
      "outputs": [
        {
          "name": "stdout",
          "output_type": "stream",
          "text": "[[0.88233092 0.05561936 0.00533852]]\n"
        }
      ]
    }
  ],
  "metadata": {
    "kernelspec": {
      "name": "python36",
      "display_name": "Python 3.6",
      "language": "python"
    },
    "language_info": {
      "mimetype": "text/x-python",
      "nbconvert_exporter": "python",
      "name": "python",
      "pygments_lexer": "ipython3",
      "version": "3.6.6",
      "file_extension": ".py",
      "codemirror_mode": {
        "version": 3,
        "name": "ipython"
      }
    }
  },
  "nbformat": 4,
  "nbformat_minor": 2
}